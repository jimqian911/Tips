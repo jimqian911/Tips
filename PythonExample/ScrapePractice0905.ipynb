{
 "cells": [
  {
   "cell_type": "code",
   "execution_count": 1,
   "metadata": {
    "collapsed": true
   },
   "outputs": [],
   "source": [
    "import urllib.parse as urllib\n",
    "import urllib3\n",
    "import os\n",
    "from bs4 import BeautifulSoup\n",
    "import urllib.request as urllibR\n",
    "from requests import get"
   ]
  },
  {
   "cell_type": "code",
   "execution_count": 2,
   "metadata": {
    "collapsed": true
   },
   "outputs": [],
   "source": [
    "url = \"https://sites.google.com/site/haowuproba/teaching/2015-geneva\""
   ]
  },
  {
   "cell_type": "code",
   "execution_count": 3,
   "metadata": {
    "collapsed": true
   },
   "outputs": [],
   "source": [
    "request = urllibR.urlopen(url)"
   ]
  },
  {
   "cell_type": "code",
   "execution_count": 4,
   "metadata": {
    "collapsed": false
   },
   "outputs": [
    {
     "name": "stderr",
     "output_type": "stream",
     "text": [
      "/Users/tomoyasasaki/anaconda/lib/python3.5/site-packages/bs4/__init__.py:166: UserWarning: No parser was explicitly specified, so I'm using the best available HTML parser for this system (\"lxml\"). This usually isn't a problem, but if you run this code on another system, or in a different virtual environment, it may use a different parser and behave differently.\n",
      "\n",
      "To get rid of this warning, change this:\n",
      "\n",
      " BeautifulSoup([your markup])\n",
      "\n",
      "to this:\n",
      "\n",
      " BeautifulSoup([your markup], \"lxml\")\n",
      "\n",
      "  markup_type=markup_type))\n"
     ]
    }
   ],
   "source": [
    "soup = BeautifulSoup(request.read())"
   ]
  },
  {
   "cell_type": "code",
   "execution_count": 20,
   "metadata": {
    "collapsed": false
   },
   "outputs": [],
   "source": [
    "url2 = \"https://docs.google.com/viewer?a=v&pid=sites&srcid=ZGVmYXVsdGRvbWFpbnxoYW93dXByb2JhfGd4OjdhMTdmMTdhNWYxNTIzYzU\""
   ]
  },
  {
   "cell_type": "code",
   "execution_count": 23,
   "metadata": {
    "collapsed": false
   },
   "outputs": [
    {
     "data": {
      "text/plain": [
       "b'<!DOCTYPE html><html lang=\"en\" dir=\"ltr\"><head><title>intro_markov.pdf</title><link rel=\"stylesheet\" type=\"text/css\" href=\"//www.gstatic.com/_/apps-viewer/_/ss/k=apps-viewer.standalone.-119n1xi2cqybd.L.W.O/d=0/rs=AC2dHMIXi7ZrI3velSZzYwb3FqL_fLpHMQ\"/></head><body><script type=\"text/javascript\" charset=\"UTF-8\" src=\"//www.gstatic.com/_/apps-viewer/_/js/k=apps-viewer.standalone.en_US.86ag4cysCNo.O/m=main/rt=j/d=1/rs=AC2dHMLkp0GIFO0Ihm7dYFDCAa_bCvpLQA\"></script><script type=\"text/javascript\" src=\"https://apis.google.com/js/client.js\"></script><script type=\"text/javascript\">_init([[\"0\",null,null,null,1,1,null,null,null,null,0,[1]\\n,0,null,null,\"https://drive.google.com\",null,null,null,null,null,1,null,null,null,null,null,null,null,null,null,1,[[\"core-305-RC1\",\"prod\"]\\n,12,1,1]\\n,null,null,null,null,[null,null,null,null,\"https://accounts.google.com/ServiceLogin?passive\\\\u003d1209600\\\\u0026continue\\\\u003dhttps://docs.google.com/viewer?a%3Dv%26pid%3Dsites%26srcid%3DZGVmYXVsdGRvbWFpbnxoYW93dXByb2JhfGd4OjdhMTdmMTdhNWYxNTIzYzU\\\\u0026hl\\\\u003den_US\\\\u0026followup\\\\u003dhttps://docs.google.com/viewer?a%3Dv%26pid%3Dsites%26srcid%3DZGVmYXVsdGRvbWFpbnxoYW93dXByb2JhfGd4OjdhMTdmMTdhNWYxNTIzYzU\",null,null,null,0]\\n,null,null,null,null,null,null,null,null,null,null,1,1,null,null,null,0,null,null,null,null,null,null,null,null,null,1]\\n,[null,\"intro_markov.pdf\",\"/viewerng/thumb?ds\\\\u003dAON1mFxxYTqmhher4-jV0OXW5padm9N2z7dGBXpqyZ9J0tyfVbkPpZ2SRurisUBpm-TrRj_bwHwZrICSHIEPKmwo0cm3z26XL8PHKUE9CT_axfLqxjCCC89nb_5-_QdNRXwabMZoFRLHBsk5o5Ab-amrpiq5b27FpXmRgf_X5MkwTdhBunu25mswf1ALlflXgzvYXBiFEN3b32c_T49-v7nIHbCEJytRKXioDcc77iHrxyQQ8Cc5Vm3gXZ3Ut6h1cFi_SnaSTkg31skrqqc5nPKev8VKuh3ikw%3D%3D\\\\u0026ck\\\\u003dlantern\\\\u0026w\\\\u003d800\\\\u0026p\\\\u003dproj\",null,null,null,null,null,null,\"/viewerng/upload?ds\\\\u003dAON1mFwY8ghpXrkEYSLGD691pX6gZWFcnU5mg-ITxL-TRMVxWzBfaaatl0TbwsMZnV_9vhGnGrf2MzXhDveZEyGFp3Xi-Dki9vvbUlbvlWsbj2RrLFTRD9K_5Xy18P-pX7n7pk20fZ0r1_aE_NOmy5ZplcpbiSCbfADCDTVU25NK3JzxKUSZj0w7WIZ4tWaOLnY40jFQfn2KEuT5RUSRJMb5ENc_-Pn1Fr3Bq98PA8uRd0poRAQGvHcctjF7O_-8fpUbCtDABS5mgexKUP_CW0rIMWpSe_tRHg%3D%3D\\\\u0026ck\\\\u003dlantern\\\\u0026p\\\\u003dproj\",null,\"application/pdf\",null,null,1,null,null,null,\"https://doc-0s-bk-apps-viewer.googleusercontent.com/viewer/secure/dl/3nb9bdfcv3e2h2k1cmql0ee9cvc5lole/o9fhg23cd90iecp06cbj4qadt445revo/1504597050000/lantern/*/ACFrOgD5y104S7Fp01LDkeziuzKdJt5lKRIjvu_c6zDAn-DCiJZ2OYIeGeuikz0_ZpJdFta-JXxAywIb-DiqkakaFqktzX2lCkNISnpj7qpfhIpAac6cbRAHKRRrpsw\\\\u003d?f\\\\u003dintro_markov.pdf\\\\u0026ds\\\\u003dAON1mFyY_Rf99qgZXtWqyBidz45_Z3W3LRpANWN6gGThvfCMmzoL8564TXbX-niXXrLfeODYJunXcA-Cv_CKD8ZEuYqwG8RBaDyEsIgtxijk17h7AW673A94jRVNd0cIchJKP5IMHFiJLwAySNGwlKTRlqWph9w2vGEP7rh9nGcCF8D7g_evhSnnma4oxFtCX-nVF2wIfrteEGWSlE3zlSrGcmSDAKvDgU82VlVYYtJVl5WL2bdijmenHilrsjafsGK7LcncLD4rd3DLDPZYoHvAlgTEr3ZEFg%3D%3D\",null,1,0,null,null,null,null,null,\"/viewerng/standalone/refresh?a\\\\u003dv\\\\u0026pid\\\\u003dsites\\\\u0026srcid\\\\u003dZGVmYXVsdGRvbWFpbnxoYW93dXByb2JhfGd4OjdhMTdmMTdhNWYxNTIzYzU\",[null,null,\"meta?id\\\\u003dACFrOgD5y104S7Fp01LDkeziuzKdJt5lKRIjvu_c6zDAn-DCiJZ2OYIeGeuikz0_ZpJdFta-JXxAywIb-DiqkakaFqktzX2lCkNISnpj7qpfhIpAac6cbRAHKRRrpsw%3D\",\"img?id\\\\u003dACFrOgD5y104S7Fp01LDkeziuzKdJt5lKRIjvu_c6zDAn-DCiJZ2OYIeGeuikz0_ZpJdFta-JXxAywIb-DiqkakaFqktzX2lCkNISnpj7qpfhIpAac6cbRAHKRRrpsw%3D\",\"press?id\\\\u003dACFrOgD5y104S7Fp01LDkeziuzKdJt5lKRIjvu_c6zDAn-DCiJZ2OYIeGeuikz0_ZpJdFta-JXxAywIb-DiqkakaFqktzX2lCkNISnpj7qpfhIpAac6cbRAHKRRrpsw%3D\",\"status?id\\\\u003dACFrOgD5y104S7Fp01LDkeziuzKdJt5lKRIjvu_c6zDAn-DCiJZ2OYIeGeuikz0_ZpJdFta-JXxAywIb-DiqkakaFqktzX2lCkNISnpj7qpfhIpAac6cbRAHKRRrpsw%3D\",\"https://doc-0s-bk-apps-viewer.googleusercontent.com/viewer/secure/pdf/3nb9bdfcv3e2h2k1cmql0ee9cvc5lole/o9fhg23cd90iecp06cbj4qadt445revo/1504597050000/lantern/*/ACFrOgD5y104S7Fp01LDkeziuzKdJt5lKRIjvu_c6zDAn-DCiJZ2OYIeGeuikz0_ZpJdFta-JXxAywIb-DiqkakaFqktzX2lCkNISnpj7qpfhIpAac6cbRAHKRRrpsw\\\\u003d\",null,\"presspage?id\\\\u003dACFrOgD5y104S7Fp01LDkeziuzKdJt5lKRIjvu_c6zDAn-DCiJZ2OYIeGeuikz0_ZpJdFta-JXxAywIb-DiqkakaFqktzX2lCkNISnpj7qpfhIpAac6cbRAHKRRrpsw%3D\"]\\n,null,null,null,\"pdf\"]\\n,\"\",\"\",1]\\n);</script></body></html>'"
      ]
     },
     "execution_count": 23,
     "metadata": {},
     "output_type": "execute_result"
    }
   ],
   "source": [
    "get(url2).content"
   ]
  },
  {
   "cell_type": "code",
   "execution_count": null,
   "metadata": {
    "collapsed": true
   },
   "outputs": [],
   "source": []
  },
  {
   "cell_type": "code",
   "execution_count": null,
   "metadata": {
    "collapsed": true
   },
   "outputs": [],
   "source": []
  },
  {
   "cell_type": "code",
   "execution_count": null,
   "metadata": {
    "collapsed": true
   },
   "outputs": [],
   "source": []
  },
  {
   "cell_type": "code",
   "execution_count": 22,
   "metadata": {
    "collapsed": false
   },
   "outputs": [
    {
     "data": {
      "text/plain": [
       "<http.client.HTTPResponse at 0x10672e5f8>"
      ]
     },
     "execution_count": 22,
     "metadata": {},
     "output_type": "execute_result"
    }
   ],
   "source": [
    "urllibR.urlopen(url2)"
   ]
  },
  {
   "cell_type": "code",
   "execution_count": null,
   "metadata": {
    "collapsed": true
   },
   "outputs": [],
   "source": []
  }
 ],
 "metadata": {
  "kernelspec": {
   "display_name": "Python [conda root]",
   "language": "python",
   "name": "conda-root-py"
  },
  "language_info": {
   "codemirror_mode": {
    "name": "ipython",
    "version": 3
   },
   "file_extension": ".py",
   "mimetype": "text/x-python",
   "name": "python",
   "nbconvert_exporter": "python",
   "pygments_lexer": "ipython3",
   "version": "3.5.1"
  }
 },
 "nbformat": 4,
 "nbformat_minor": 1
}
