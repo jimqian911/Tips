{
 "cells": [
  {
   "cell_type": "markdown",
   "metadata": {},
   "source": [
    "see [here](https://github.com/ericsuh/dirichlet/blob/master/dirichlet/dirichlet.py)"
   ]
  },
  {
   "cell_type": "code",
   "execution_count": 90,
   "metadata": {
    "collapsed": false
   },
   "outputs": [],
   "source": [
    "import sys\n",
    "import scipy as sp\n",
    "import scipy.stats as stats\n",
    "from scipy.special import (psi, polygamma, gammaln)\n",
    "from numpy import (array, asanyarray, ones, arange, log, diag, vstack, exp,\n",
    "        asarray, ndarray, zeros, isscalar)\n",
    "from numpy.linalg import norm\n",
    "import numpy as np\n",
    "import os\n",
    "import numpy.random as npr"
   ]
  },
  {
   "cell_type": "code",
   "execution_count": 63,
   "metadata": {
    "collapsed": true
   },
   "outputs": [],
   "source": [
    "__all__ = [\n",
    "    'pdf',\n",
    "    'test',\n",
    "    'mle',\n",
    "    'meanprecision',\n",
    "    'loglikelihood',\n",
    "]\n",
    "\n",
    "euler = -1*psi(1) # Euler-Mascheroni constant"
   ]
  },
  {
   "cell_type": "code",
   "execution_count": 108,
   "metadata": {
    "collapsed": false
   },
   "outputs": [],
   "source": [
    "def test(D1, D2, method='meanprecision', maxiter=None):\n",
    "    '''Test for statistical difference between observed proportions.\n",
    "    Parameters\n",
    "    ----------\n",
    "    D1 : array\n",
    "    D2 : array\n",
    "        Both ``D1`` and ``D2`` must have the same number of columns, which are\n",
    "        the different levels or categorical possibilities. Each row of the\n",
    "        matrices must add up to 1.\n",
    "    method : string\n",
    "        One of ``'fixedpoint'`` and ``'meanprecision'``, designates method by\n",
    "        which to find MLE Dirichlet distribution. Default is\n",
    "        ``'meanprecision'``, which is faster.\n",
    "    maxiter : int\n",
    "        Maximum number of iterations to take calculations. Default is\n",
    "        ``sys.maxint``.\n",
    "    Returns\n",
    "    -------\n",
    "    D : float\n",
    "        Test statistic, which is ``-2 * log`` of likelihood ratios.\n",
    "    p : float\n",
    "        p-value of test.\n",
    "    a0 : array\n",
    "    a1 : array\n",
    "    a2 : array\n",
    "        MLE parameters for the Dirichlet distributions fit to \n",
    "        ``D1`` and ``D2`` together, ``D1``, and ``D2``, respectively.'''\n",
    "\n",
    "    N1, K1 = D1.shape\n",
    "    N2, K2 = D2.shape\n",
    "    if K1 != K2:\n",
    "        raise Exception(\"D1 and D2 must have the same number of columns\")\n",
    "\n",
    "    D0 = vstack((D1, D2))\n",
    "    a0 = mle(D0, method=method, maxiter=maxiter)\n",
    "    a1 = mle(D1, method=method, maxiter=maxiter)\n",
    "    a2 = mle(D2, method=method, maxiter=maxiter)\n",
    "\n",
    "    D = 2 * (loglikelihood(D1, a1) + loglikelihood(D2, a2)\n",
    "         - loglikelihood(D0, a0))\n",
    "    return (D, stats.chi2.sf(D, K1), a0, a1, a2)\n",
    "\n",
    "def pdf(alphas):\n",
    "    '''Returns a Dirichlet PDF function'''\n",
    "    alphap = alphas - 1\n",
    "    c = np.exp(gammaln(alphas.sum()) - gammaln(alphas).sum())\n",
    "    def dirichlet(xs):\n",
    "        '''N x K array'''\n",
    "        return c * (xs**alphap).prod(axis=1)\n",
    "    return dirichlet\n",
    "\n",
    "def meanprecision(a):\n",
    "    '''Mean and precision of Dirichlet distribution.\n",
    "    Parameters\n",
    "    ----------\n",
    "    a : array\n",
    "        Parameters of Dirichlet distribution.\n",
    "    Returns\n",
    "    -------\n",
    "    mean : array\n",
    "        Numbers [0,1] of the means of the Dirichlet distribution.\n",
    "    precision : float\n",
    "        Precision or concentration parameter of the Dirichlet distribution.'''\n",
    "\n",
    "    s = a.sum()\n",
    "    m = a / s\n",
    "    return (m,s)\n",
    "\n",
    "def loglikelihood(D, a):\n",
    "    '''Compute log likelihood of Dirichlet distribution, i.e. log p(D|a).\n",
    "    Parameters\n",
    "    ----------\n",
    "    D : 2D array\n",
    "        where ``N`` is the number of observations, ``K`` is the number of\n",
    "        parameters for the Dirichlet distribution.\n",
    "    a : array\n",
    "        Parameters for the Dirichlet distribution.\n",
    "    Returns\n",
    "    -------\n",
    "    logl : float\n",
    "        The log likelihood of the Dirichlet distribution'''\n",
    "    N, K = D.shape\n",
    "    logp = log(D).mean(axis=0)\n",
    "    return N*(gammaln(a.sum()) - gammaln(a).sum() + ((a - 1)*logp).sum())\n",
    "\n",
    "def mle(D, tol=1e-7, method='meanprecision', maxiter=None):\n",
    "    '''Iteratively computes maximum likelihood Dirichlet distribution\n",
    "    for an observed data set, i.e. a for which log p(D|a) is maximum.\n",
    "    Parameters\n",
    "    ----------\n",
    "    D : 2D array\n",
    "        ``N x K`` array of numbers from [0,1] where ``N`` is the number of\n",
    "        observations, ``K`` is the number of parameters for the Dirichlet\n",
    "        distribution.\n",
    "    tol : float\n",
    "        If Euclidean distance between successive parameter arrays is less than\n",
    "        ``tol``, calculation is taken to have converged.\n",
    "    method : string\n",
    "        One of ``'fixedpoint'`` and ``'meanprecision'``, designates method by\n",
    "        which to find MLE Dirichlet distribution. Default is\n",
    "        ``'meanprecision'``, which is faster.\n",
    "    maxiter : int\n",
    "        Maximum number of iterations to take calculations. Default is\n",
    "        ``sys.maxint``.\n",
    "    Returns\n",
    "    -------\n",
    "    a : array\n",
    "        Maximum likelihood parameters for Dirichlet distribution.'''\n",
    "\n",
    "    if method == 'meanprecision':\n",
    "        return _meanprecision(D, tol=tol, maxiter=maxiter)\n",
    "    else:\n",
    "        return _fixedpoint(D, tol=tol, maxiter=maxiter)\n",
    "\n",
    "def _fixedpoint(D, tol=1e-7, maxiter=None):\n",
    "    '''Simple fixed point iteration method for MLE of Dirichlet distribution'''\n",
    "    N, K = D.shape\n",
    "    logp = log(D).mean(axis=0)\n",
    "    a0 = _init_a(D)\n",
    "\n",
    "    # Start updating\n",
    "    if maxiter is None:\n",
    "        maxiter = MAXINT\n",
    "    for i in range(maxiter):\n",
    "#         print(\"a0\")\n",
    "#         print(a0)\n",
    "#         print(\"inside inverse digamma\")\n",
    "#         print( psi(a0.sum() ) + logp)\n",
    "        \n",
    "        a1 = _ipsi(psi(a0.sum()) + logp)\n",
    "        # if norm(a1-a0) < tol:\n",
    "        if abs(loglikelihood(D, a1)-loglikelihood(D, a0)) < tol: # much faster\n",
    "            return a1\n",
    "        a0 = a1\n",
    "    raise Exception('Failed to converge after {} iterations, values are {}.'\n",
    "                    .format(maxiter, a1))\n",
    "\n",
    "def _meanprecision(D, tol=1e-7, maxiter=None):\n",
    "    '''Mean and precision alternating method for MLE of Dirichlet\n",
    "    distribution'''\n",
    "    N, K = D.shape\n",
    "    logp = log(D).mean(axis=0)\n",
    "    a0 = _init_a(D)\n",
    "    s0 = a0.sum()\n",
    "    if s0 < 0:\n",
    "        a0 = a0/s0\n",
    "        s0 = 1\n",
    "    elif s0 == 0:\n",
    "        a0 = ones(a.shape) / len(a)\n",
    "        s0 = 1\n",
    "    m0 = a0/s0\n",
    "\n",
    "    # Start updating\n",
    "    if maxiter is None:\n",
    "        maxiter = MAXINT\n",
    "    for i in range(maxiter):\n",
    "        a1 = _fit_s(D, a0, logp, tol=tol)\n",
    "        s1 = sum(a1)\n",
    "        a1 = _fit_m(D, a1, logp, tol=tol)\n",
    "        m = a1/s1\n",
    "        # if norm(a1-a0) < tol:\n",
    "        new_loglik = loglikelihood(D, a1)\n",
    "        old_loglik = loglikelihood(D, a0)\n",
    "        \n",
    "        print(\"old_loglik %f\" %old_loglik )\n",
    "        print(\"new_loglik %f\" %new_loglik )\n",
    "        \n",
    "        if abs(new_loglik - old_loglik) < tol: # much faster\n",
    "            print(\"iteration at %d\" %i)\n",
    "            return a1\n",
    "        a0 = a1\n",
    "    raise Exception('Failed to converge after {} iterations, values are {}.'\n",
    "                    .format(maxiter, a1))\n",
    "\n",
    "def _fit_s(D, a0, logp, tol=1e-7, maxiter=1000):\n",
    "    '''Assuming a fixed mean for Dirichlet distribution, maximize likelihood\n",
    "    for preicision a.k.a. s'''\n",
    "    N, K = D.shape\n",
    "    s1 = a0.sum()\n",
    "    m = a0 / s1\n",
    "    mlogp = (m*logp).sum()\n",
    "    for i in range(maxiter):\n",
    "        s0 = s1\n",
    "        g = psi(s1) - (m*psi(s1*m)).sum() + mlogp\n",
    "        h = _trigamma(s1) - ((m**2)*_trigamma(s1*m)).sum()\n",
    "\n",
    "        if g + s1 * h < 0:\n",
    "            s1 = 1/(1/s0 + g/h/(s0**2))\n",
    "        if s1 <= 0:\n",
    "            s1 = s0 * exp(-g/(s0*h + g)) # Newton on log s\n",
    "        if s1 <= 0:\n",
    "            s1 = 1/(1/s0 + g/((s0**2)*h + 2*s0*g)) # Newton on 1/s\n",
    "        if s1 <= 0:\n",
    "            s1 = s0 - g/h # Newton\n",
    "        if s1 <= 0:\n",
    "            raise Exception('Unable to update s from {}'.format(s0))\n",
    "\n",
    "        a = s1 * m\n",
    "        if abs(s1 - s0) < tol:\n",
    "            return a\n",
    "\n",
    "    raise Exception('Failed to converge after {} iterations, s is {}'\n",
    "            .format(maxiter, s1))\n",
    "\n",
    "def _fit_m(D, a0, logp, tol=1e-7, maxiter=1000):\n",
    "    '''With fixed precision s, maximize mean m'''\n",
    "    N,K = D.shape\n",
    "    s = a0.sum()\n",
    "\n",
    "    for i in range(maxiter):\n",
    "        m = a0 / s\n",
    "        a1 = _ipsi(logp + (m*(psi(a0) - logp)).sum())\n",
    "        a1 = a1/a1.sum() * s\n",
    "\n",
    "        if norm(a1 - a0) < tol:\n",
    "            return a1\n",
    "        a0 = a1\n",
    "\n",
    "    raise Exception('Failed to converge after {} iterations, s is {}'\n",
    "            .format(maxiter, s))\n",
    "\n",
    "def _piecewise(x, condlist, funclist, *args, **kw):\n",
    "    '''Fixed version of numpy.piecewise for 0-d arrays'''\n",
    "    x = asanyarray(x)\n",
    "    n2 = len(funclist)\n",
    "    if isscalar(condlist) or \\\n",
    "            (isinstance(condlist, np.ndarray) and condlist.ndim == 0) or \\\n",
    "            (x.ndim > 0 and condlist[0].ndim == 0):\n",
    "        condlist = [condlist]\n",
    "    condlist = [asarray(c, dtype=bool) for c in condlist]\n",
    "    n = len(condlist)\n",
    "\n",
    "    zerod = False\n",
    "    # This is a hack to work around problems with NumPy's\n",
    "    #  handling of 0-d arrays and boolean indexing with\n",
    "    #  numpy.bool_ scalars\n",
    "    if x.ndim == 0:\n",
    "        x = x[None]\n",
    "        zerod = True\n",
    "        newcondlist = []\n",
    "        for k in range(n):\n",
    "            if condlist[k].ndim == 0:\n",
    "                condition = condlist[k][None]\n",
    "            else:\n",
    "                condition = condlist[k]\n",
    "            newcondlist.append(condition)\n",
    "        condlist = newcondlist\n",
    "\n",
    "    if n == n2-1:  # compute the \"otherwise\" condition.\n",
    "        totlist = condlist[0]\n",
    "        for k in range(1, n):\n",
    "            totlist |= condlist[k]\n",
    "        condlist.append(~totlist)\n",
    "        n += 1\n",
    "    if (n != n2):\n",
    "        raise ValueError(\n",
    "                \"function list and condition list must be the same\")\n",
    "\n",
    "    y = zeros(x.shape, x.dtype)\n",
    "    for k in range(n):\n",
    "        item = funclist[k]\n",
    "        if not callable(item):\n",
    "            y[condlist[k]] = item\n",
    "        else:\n",
    "            vals = x[condlist[k]]\n",
    "            if vals.size > 0:\n",
    "                y[condlist[k]] = item(vals, *args, **kw)\n",
    "    if zerod:\n",
    "        y = y.squeeze()\n",
    "    return y\n",
    "\n",
    "def _init_a(D):\n",
    "    '''Initial guess for Dirichlet alpha parameters given data D'''\n",
    "    E = D.mean(axis=0)\n",
    "    E2 = (D**2).mean(axis=0)\n",
    "    return ((E[0] - E2[0])/(E2[0]-E[0]**2)) * E\n",
    "\n",
    "def _ipsi(y, tol=1.48e-9, maxiter=10):\n",
    "    '''Inverse of psi (digamma) using Newton's method. For the purposes\n",
    "    of Dirichlet MLE, since the parameters a[i] must always\n",
    "    satisfy a > 0, we define ipsi :: R -> (0,inf).'''\n",
    "    y = asanyarray(y, dtype='float')\n",
    "#     print(\"initial value of inverse digamma\")\n",
    "#     print(y)\n",
    "    x0 = _piecewise(y, [y >= -2.22, y < -2.22],\n",
    "            [(lambda x: exp(x) + 0.5), (lambda x: -1/(x+euler))])\n",
    "    for i in range(maxiter):\n",
    "#         print(\"updating inverse digamma\")\n",
    "#         print(x0)\n",
    "        x1 = x0 - (psi(x0) - y)/_trigamma(x0)\n",
    "        if norm(x1 - x0) < tol:\n",
    "            return x1\n",
    "        x0 = x1\n",
    "    raise Exception(\n",
    "        'Unable to converge in {} iterations, value is {}'.format(maxiter, x1))\n",
    "\n",
    "def _trigamma(x):\n",
    "    return polygamma(1, x)"
   ]
  },
  {
   "cell_type": "code",
   "execution_count": 101,
   "metadata": {
    "collapsed": true
   },
   "outputs": [],
   "source": [
    "def test2(D1, method='meanprecision', maxiter=100):\n",
    "    '''Test for statistical difference between observed proportions.\n",
    "    Parameters\n",
    "    ----------\n",
    "    D1 : array\n",
    "    D2 : array\n",
    "        Both ``D1`` and ``D2`` must have the same number of columns, which are\n",
    "        the different levels or categorical possibilities. Each row of the\n",
    "        matrices must add up to 1.\n",
    "    method : string\n",
    "        One of ``'fixedpoint'`` and ``'meanprecision'``, designates method by\n",
    "        which to find MLE Dirichlet distribution. Default is\n",
    "        ``'meanprecision'``, which is faster.\n",
    "    maxiter : int\n",
    "        Maximum number of iterations to take calculations. Default is\n",
    "        ``sys.maxint``.\n",
    "    Returns\n",
    "    -------\n",
    "    D : float\n",
    "        Test statistic, which is ``-2 * log`` of likelihood ratios.\n",
    "    p : float\n",
    "        p-value of test.\n",
    "    a0 : array\n",
    "    a1 : array\n",
    "    a2 : array\n",
    "        MLE parameters for the Dirichlet distributions fit to \n",
    "        ``D1`` and ``D2`` together, ``D1``, and ``D2``, respectively.'''\n",
    "\n",
    "    N1, K1 = D1.shape\n",
    "\n",
    "    a1 = mle(D1, method=method, maxiter=maxiter)\n",
    "\n",
    "    D =  loglikelihood(D1, a1) \n",
    "    \n",
    "    return (D, a1)\n"
   ]
  },
  {
   "cell_type": "code",
   "execution_count": 118,
   "metadata": {
    "collapsed": true
   },
   "outputs": [],
   "source": [
    "def test3 (D1, D2, lambda1, lambda2,  method='meanprecision', maxiter=None):\n",
    "    '''Test for statistical difference between observed proportions.\n",
    "    Parameters\n",
    "    ----------\n",
    "    D1 : array\n",
    "    D2 : array\n",
    "        Both ``D1`` and ``D2`` must have the same number of columns, which are\n",
    "        the different levels or categorical possibilities. Each row of the\n",
    "        matrices must add up to 1.\n",
    "    method : string\n",
    "        One of ``'fixedpoint'`` and ``'meanprecision'``, designates method by\n",
    "        which to find MLE Dirichlet distribution. Default is\n",
    "        ``'meanprecision'``, which is faster.\n",
    "    maxiter : int\n",
    "        Maximum number of iterations to take calculations. Default is\n",
    "        ``sys.maxint``.\n",
    "    Returns\n",
    "    -------\n",
    "    D : float\n",
    "        Test statistic, which is ``-2 * log`` of likelihood ratios.\n",
    "    p : float\n",
    "        p-value of test.\n",
    "    a0 : array\n",
    "    a1 : array\n",
    "    a2 : array\n",
    "        MLE parameters for the Dirichlet distributions fit to \n",
    "        ``D1`` and ``D2`` together, ``D1``, and ``D2``, respectively.'''\n",
    "\n",
    "    N1, K1 = D1.shape\n",
    "    N2, K2 = D2.shape\n",
    "    if K1 != K2:\n",
    "        raise Exception(\"D1 and D2 must have the same number of columns\")\n",
    "\n",
    "    D0 = vstack((D1, D2))\n",
    "    a0 = mle(D0, method=method, maxiter=maxiter)\n",
    "    a1 = mle(D1, method=method, maxiter=maxiter)\n",
    "    a2 = mle(D2, method=method, maxiter=maxiter)\n",
    "    \n",
    "    ## pattern1\n",
    "    ## likelihood for merged\n",
    "    L0 = likAlpha(a0, lambda1, lambda2)\n",
    "    ## likelihood for each\n",
    "    L1 = likAlpha2(a1,a2,  lambda1, lambda2)\n",
    "    \n",
    "    ## pattern2\n",
    "    L1 = loglikelihood(D1, a1)\n",
    "    L2 = loglikelihood(D2, a2)\n",
    "    L = L1 + L2\n",
    "    \n",
    "    L0 = loglikelihood(D0, a0)\n",
    "    \n",
    "    new = SampleBern(L, L0)\n",
    "\n",
    "    return a0, a1, a2, L0, L, new"
   ]
  },
  {
   "cell_type": "code",
   "execution_count": 103,
   "metadata": {
    "collapsed": true
   },
   "outputs": [],
   "source": [
    "## likelihood of alpha part\n",
    "def likAlpha(alpha, lambda1, lambda2):\n",
    "    K = alpha.shape[0]\n",
    "    lik = 0.0\n",
    "\n",
    "\n",
    "    for k in range(K):\n",
    "        lik += lambda1 * log(lambda2)\n",
    "        lik -= gammaln(lambda1)\n",
    "        lik += (lambda1 - 1) * log(alpha[k])\n",
    "        lik -= lambda2 * alpha[k]\n",
    "    return(lik)"
   ]
  },
  {
   "cell_type": "code",
   "execution_count": 104,
   "metadata": {
    "collapsed": true
   },
   "outputs": [],
   "source": [
    "## likelihood of alpha part\n",
    "def likAlpha2(alpha, alpha2, lambda1, lambda2):\n",
    "    K = alpha.shape[0]\n",
    "    lik = 0.0\n",
    "\n",
    "\n",
    "    for k in range(K):\n",
    "        lik += lambda1 * log(lambda2)\n",
    "        lik -= gammaln(lambda1)\n",
    "        lik += (lambda1 - 1) * log(alpha[k] + alpha2[k])\n",
    "        lik -= lambda2 * ( alpha[k] + alpha2[k])\n",
    "    return(lik)"
   ]
  },
  {
   "cell_type": "code",
   "execution_count": 105,
   "metadata": {
    "collapsed": true
   },
   "outputs": [],
   "source": [
    "def SampleBern(prob1, prob0):\n",
    "    ## debug \n",
    "    # print(\"prob0 = %f\" %prob0)\n",
    "    # print(\"prob1 = %f\" %prob1)\n",
    "\n",
    "    prob = exp( prob1 - logSumExp( prob0, prob1 ) )\n",
    "    print(\"probablity 1\", prob)\n",
    "    return npr.binomial(1, prob) "
   ]
  },
  {
   "cell_type": "code",
   "execution_count": 106,
   "metadata": {
    "collapsed": true
   },
   "outputs": [],
   "source": [
    "def logSumExp (x, y):\n",
    "    max0 = max(x, y)\n",
    "    return max0 + log(exp(x - max0) + exp(y - max0)) "
   ]
  },
  {
   "cell_type": "code",
   "execution_count": 140,
   "metadata": {
    "collapsed": true
   },
   "outputs": [],
   "source": [
    "def lik_DAlpha(ND, alpha ):\n",
    "    '''Compute log likelihood of Dirichlet distribution, i.e. log p(D|a).\n",
    "    Parameters\n",
    "    ----------\n",
    "    D : 2D array\n",
    "        where ``N`` is the number of observations, ``K`` is the number of\n",
    "        parameters for the Dirichlet distribution.\n",
    "    a : array\n",
    "        Parameters for the Dirichlet distribution.\n",
    "    Returns\n",
    "    -------\n",
    "    logl : float\n",
    "        The log likelihood of the Dirichlet distribution'''\n",
    "    N = ND.shape[0]\n",
    "    K = ND.shape[1]\n",
    "    \n",
    "    loglik = 0.0\n",
    "\n",
    "    logp = np.log(ND).mean(axis=0)\n",
    "    loglik  += gammaln( alpha.sum() )\n",
    "\n",
    "    for k in range(K):\n",
    "        loglik -= gammaln(alpha[k])\n",
    "        loglik += (alpha[k] - 1) * logp[k]\n",
    "\n",
    "    return  loglik * N, logp"
   ]
  },
  {
   "cell_type": "code",
   "execution_count": 136,
   "metadata": {
    "collapsed": true
   },
   "outputs": [],
   "source": [
    "def loglikelihood2(D, a):\n",
    "    '''Compute log likelihood of Dirichlet distribution, i.e. log p(D|a).\n",
    "    Parameters\n",
    "    ----------\n",
    "    D : 2D array\n",
    "        where ``N`` is the number of observations, ``K`` is the number of\n",
    "        parameters for the Dirichlet distribution.\n",
    "    a : array\n",
    "        Parameters for the Dirichlet distribution.\n",
    "    Returns\n",
    "    -------\n",
    "    logl : float\n",
    "        The log likelihood of the Dirichlet distribution'''\n",
    "    N, K = D.shape\n",
    "    logp = log(D).mean(axis=0)\n",
    "    return N*(gammaln(a.sum()) - gammaln(a).sum() + ((a - 1)*logp).sum()), logp\n"
   ]
  },
  {
   "cell_type": "code",
   "execution_count": 68,
   "metadata": {
    "collapsed": false
   },
   "outputs": [],
   "source": [
    "os.chdir(\"/Users/tomoyasasaki/Google ドライブ/TMY/ism/\")"
   ]
  },
  {
   "cell_type": "code",
   "execution_count": 123,
   "metadata": {
    "collapsed": false
   },
   "outputs": [],
   "source": [
    "data = np.loadtxt(\"test.csv\",delimiter=\",\", skiprows=1)"
   ]
  },
  {
   "cell_type": "code",
   "execution_count": 124,
   "metadata": {
    "collapsed": true
   },
   "outputs": [],
   "source": [
    "data2 = np.loadtxt(\"test2.csv\",delimiter=\",\", skiprows=1)"
   ]
  },
  {
   "cell_type": "code",
   "execution_count": 128,
   "metadata": {
    "collapsed": false
   },
   "outputs": [],
   "source": [
    "alpha = array([1]*5)"
   ]
  },
  {
   "cell_type": "code",
   "execution_count": 141,
   "metadata": {
    "collapsed": false
   },
   "outputs": [
    {
     "data": {
      "text/plain": [
       "(317.8053830347946,\n",
       " array([-2.55965494, -2.66440031, -2.73249186, -2.63258438, -2.78168804]))"
      ]
     },
     "execution_count": 141,
     "metadata": {},
     "output_type": "execute_result"
    }
   ],
   "source": [
    "loglikelihood2(data, alpha)"
   ]
  },
  {
   "cell_type": "code",
   "execution_count": 142,
   "metadata": {
    "collapsed": false
   },
   "outputs": [
    {
     "data": {
      "text/plain": [
       "(317.8053830347946,\n",
       " array([-2.55965494, -2.66440031, -2.73249186, -2.63258438, -2.78168804]))"
      ]
     },
     "execution_count": 142,
     "metadata": {},
     "output_type": "execute_result"
    }
   ],
   "source": [
    "lik_DAlpha(data, alpha)"
   ]
  },
  {
   "cell_type": "code",
   "execution_count": 41,
   "metadata": {
    "collapsed": true
   },
   "outputs": [
    {
     "name": "stdout",
     "output_type": "stream",
     "text": [
      "a0\n",
      "[ 0.05837202  0.11443937  0.11301524  0.123524    0.06666227  0.08750041\n",
      "  0.07153094  0.11394463  0.09105185  0.16125989]\n",
      "inside inverse digamma\n",
      "[-13.59219957  -9.84712412  -8.07700135  -8.74357623 -10.15938791\n",
      " -10.38684325  -9.10104536 -14.77812639 -10.24329178 -12.04717165]\n",
      "initial value of inverse digamma\n",
      "[-13.59219957  -9.84712412  -8.07700135  -8.74357623 -10.15938791\n",
      " -10.38684325  -9.10104536 -14.77812639 -10.24329178 -12.04717165]\n",
      "updating inverse digamma\n",
      "[ 0.07683452  0.10787593  0.13333714  0.12245357  0.10436047  0.10194067\n",
      "  0.11731816  0.07041802  0.1034546   0.08718429]\n",
      "updating inverse digamma\n",
      "[ 0.07613369  0.1059905   0.12986207  0.11973358  0.10264782  0.10034082\n",
      "  0.11491452  0.06987545  0.10178475  0.08616986]\n",
      "updating inverse digamma\n",
      "[ 0.07613997  0.10602241  0.12994844  0.11979159  0.10267508  0.10036521\n",
      "  0.11496194  0.06987957  0.10181091  0.08618141]\n",
      "updating inverse digamma\n",
      "[ 0.07613997  0.10602242  0.1299485   0.11979161  0.10267509  0.10036521\n",
      "  0.11496196  0.06987957  0.10181092  0.08618141]\n",
      "a0\n",
      "[ 0.07613997  0.10602242  0.1299485   0.11979161  0.10267509  0.10036521\n",
      "  0.11496196  0.06987957  0.10181092  0.08618141]\n",
      "inside inverse digamma\n",
      "[-13.58161706  -9.83654162  -8.06641884  -8.73299373 -10.1488054\n",
      " -10.37626074  -9.09046285 -14.76754389 -10.23270928 -12.03658915]\n",
      "initial value of inverse digamma\n",
      "[-13.58161706  -9.83654162  -8.06641884  -8.73299373 -10.1488054\n",
      " -10.37626074  -9.09046285 -14.76754389 -10.23270928 -12.03658915]\n",
      "updating inverse digamma\n",
      "[ 0.07689704  0.10799922  0.13352555  0.12261246  0.10447585  0.10205076\n",
      "  0.11746399  0.07047053  0.10356798  0.08726481]\n",
      "updating inverse digamma\n",
      "[ 0.07619454  0.10610754  0.13003636  0.11988228  0.1027577   0.10044589\n",
      "  0.11505171  0.06992677  0.10189282  0.08624763]\n",
      "updating inverse digamma\n",
      "[ 0.07620085  0.10613962  0.1301233   0.11994064  0.10278511  0.1004704\n",
      "  0.11509941  0.06993091  0.10191911  0.08625923]\n",
      "updating inverse digamma\n",
      "[ 0.07620085  0.10613963  0.13012336  0.11994067  0.10278512  0.1004704\n",
      "  0.11509943  0.06993091  0.10191912  0.08625923]\n",
      "a0\n",
      "[ 0.07620085  0.10613963  0.13012336  0.11994067  0.10278512  0.1004704\n",
      "  0.11509943  0.06993091  0.10191912  0.08625923]\n",
      "inside inverse digamma\n",
      "[-13.5798423   -9.83476685  -8.06464408  -8.73121896 -10.14703064\n",
      " -10.37448598  -9.08868809 -14.76576912 -10.23093451 -12.03481438]\n",
      "initial value of inverse digamma\n",
      "[-13.5798423   -9.83476685  -8.06464408  -8.73121896 -10.14703064\n",
      " -10.37448598  -9.08868809 -14.76576912 -10.23093451 -12.03481438]\n",
      "updating inverse digamma\n",
      "[ 0.07690754  0.10801993  0.1335572   0.12263915  0.10449523  0.10206925\n",
      "  0.11748849  0.07047935  0.10358702  0.08727832]\n",
      "updating inverse digamma\n",
      "[ 0.07620476  0.1061272   0.13006563  0.11990725  0.10277615  0.10046353\n",
      "  0.11507475  0.06993539  0.10191097  0.08626069]\n",
      "updating inverse digamma\n",
      "[ 0.07621107  0.1061593   0.13015267  0.11996568  0.10280358  0.10048806\n",
      "  0.1151225   0.06993953  0.10193728  0.0862723 ]\n",
      "updating inverse digamma\n",
      "[ 0.07621107  0.10615931  0.13015273  0.1199657   0.10280359  0.10048807\n",
      "  0.11512252  0.06993953  0.10193729  0.0862723 ]\n",
      "a0\n",
      "[ 0.07621107  0.10615931  0.13015273  0.1199657   0.10280359  0.10048807\n",
      "  0.11512252  0.06993953  0.10193729  0.0862723 ]\n",
      "inside inverse digamma\n",
      "[-13.57954455  -9.8344691   -8.06434633  -8.73092122 -10.14673289\n",
      " -10.37418823  -9.08839034 -14.76547138 -10.23063677 -12.03451664]\n",
      "initial value of inverse digamma\n",
      "[-13.57954455  -9.8344691   -8.06434633  -8.73092122 -10.14673289\n",
      " -10.37418823  -9.08839034 -14.76547138 -10.23063677 -12.03451664]\n",
      "updating inverse digamma\n",
      "[ 0.0769093   0.1080234   0.13356251  0.12264362  0.10449848  0.10207235\n",
      "  0.1174926   0.07048083  0.10359022  0.08728059]\n",
      "updating inverse digamma\n",
      "[ 0.07620647  0.10613049  0.13007055  0.11991145  0.10277925  0.10046649\n",
      "  0.11507861  0.06993683  0.10191401  0.08626288]\n",
      "updating inverse digamma\n",
      "[ 0.07621278  0.1061626   0.1301576   0.11996988  0.10280668  0.10049102\n",
      "  0.11512637  0.06994097  0.10194033  0.08627449]\n",
      "updating inverse digamma\n",
      "[ 0.07621278  0.10616261  0.13015766  0.1199699   0.10280669  0.10049103\n",
      "  0.11512639  0.06994097  0.10194034  0.08627449]\n",
      "a0\n",
      "[ 0.07621278  0.10616261  0.13015766  0.1199699   0.10280669  0.10049103\n",
      "  0.11512639  0.06994097  0.10194034  0.08627449]\n",
      "inside inverse digamma\n",
      "[-13.57949459  -9.83441915  -8.06429637  -8.73087126 -10.14668294\n",
      " -10.37413828  -9.08834038 -14.76542142 -10.23058681 -12.03446668]\n",
      "initial value of inverse digamma\n",
      "[-13.57949459  -9.83441915  -8.06429637  -8.73087126 -10.14668294\n",
      " -10.37413828  -9.08834038 -14.76542142 -10.23058681 -12.03446668]\n",
      "updating inverse digamma\n",
      "[ 0.07690959  0.10802398  0.13356341  0.12264438  0.10449903  0.10207287\n",
      "  0.11749328  0.07048108  0.10359075  0.08728097]\n",
      "updating inverse digamma\n",
      "[ 0.07620676  0.10613105  0.13007137  0.11991215  0.10277977  0.10046699\n",
      "  0.11507926  0.06993708  0.10191452  0.08626325]\n",
      "updating inverse digamma\n",
      "[ 0.07621307  0.10616316  0.13015843  0.11997058  0.1028072   0.10049152\n",
      "  0.11512702  0.06994121  0.10194084  0.08627486]\n",
      "updating inverse digamma\n",
      "[ 0.07621307  0.10616317  0.13015849  0.11997061  0.10280721  0.10049153\n",
      "  0.11512704  0.06994121  0.10194085  0.08627486]\n"
     ]
    },
    {
     "data": {
      "text/plain": [
       "(2062.8329394516254,\n",
       " array([ 0.07621307,  0.10616317,  0.13015849,  0.11997061,  0.10280721,\n",
       "         0.10049153,  0.11512704,  0.06994121,  0.10194085,  0.08627486]))"
      ]
     },
     "execution_count": 41,
     "metadata": {},
     "output_type": "execute_result"
    }
   ],
   "source": [
    "test2(data, 'fixedpoint')"
   ]
  },
  {
   "cell_type": "code",
   "execution_count": 119,
   "metadata": {
    "collapsed": false,
    "scrolled": true
   },
   "outputs": [
    {
     "name": "stdout",
     "output_type": "stream",
     "text": [
      "probablity 1 1.0\n"
     ]
    },
    {
     "data": {
      "text/plain": [
       "(array([ 0.24577621,  0.24570931,  0.24306075,  0.25939488,  0.26142281]),\n",
       " array([ 0.52135263,  0.49938074,  0.48592889,  0.50588575,  0.47659123]),\n",
       " array([ 0.09398917,  0.09708749,  0.0972829 ,  0.10618223,  0.11374659]),\n",
       " 1096.3386178971784,\n",
       " 1222.60107576884,\n",
       " 1)"
      ]
     },
     "execution_count": 119,
     "metadata": {},
     "output_type": "execute_result"
    }
   ],
   "source": [
    "test3(data, data2, lambda1=1, lambda2=1,  method='fixedpoint', maxiter=1000)"
   ]
  },
  {
   "cell_type": "code",
   "execution_count": 117,
   "metadata": {
    "collapsed": false
   },
   "outputs": [
    {
     "data": {
      "text/plain": [
       "(252.52491574332316,\n",
       " 1.578830707909454e-52,\n",
       " array([ 0.24577621,  0.24570931,  0.24306075,  0.25939488,  0.26142281]),\n",
       " array([ 0.52135263,  0.49938074,  0.48592889,  0.50588575,  0.47659123]),\n",
       " array([ 0.09398917,  0.09708749,  0.0972829 ,  0.10618223,  0.11374659]))"
      ]
     },
     "execution_count": 117,
     "metadata": {},
     "output_type": "execute_result"
    }
   ],
   "source": [
    "test(data, data2, method='fixedpoint', maxiter=1000)"
   ]
  },
  {
   "cell_type": "code",
   "execution_count": 111,
   "metadata": {
    "collapsed": true
   },
   "outputs": [],
   "source": [
    "y = np.array([-5, -5, -5])"
   ]
  },
  {
   "cell_type": "code",
   "execution_count": 57,
   "metadata": {
    "collapsed": true
   },
   "outputs": [],
   "source": [
    "y = asanyarray(y, dtype='float')\n",
    "#     print(y)\n",
    "x0 = _piecewise(y, [y >= -2.22, y < -2.22],\n",
    "        [(lambda x: exp(x) + 0.5), (lambda x: -1/(x+euler))])"
   ]
  },
  {
   "cell_type": "code",
   "execution_count": 59,
   "metadata": {
    "collapsed": false
   },
   "outputs": [
    {
     "data": {
      "text/plain": [
       "array([ 0.22610191,  0.22610191,  0.22610191])"
      ]
     },
     "execution_count": 59,
     "metadata": {},
     "output_type": "execute_result"
    }
   ],
   "source": [
    "x0"
   ]
  }
 ],
 "metadata": {
  "kernelspec": {
   "display_name": "Python [conda env:snakes]",
   "language": "python",
   "name": "conda-env-snakes-py"
  },
  "language_info": {
   "codemirror_mode": {
    "name": "ipython",
    "version": 3
   },
   "file_extension": ".py",
   "mimetype": "text/x-python",
   "name": "python",
   "nbconvert_exporter": "python",
   "pygments_lexer": "ipython3",
   "version": "3.5.3"
  }
 },
 "nbformat": 4,
 "nbformat_minor": 1
}
