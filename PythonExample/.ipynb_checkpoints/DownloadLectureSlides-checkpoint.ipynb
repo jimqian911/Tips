{
 "cells": [
  {
   "cell_type": "markdown",
   "metadata": {},
   "source": [
    "# Reference\n",
    "* [here](https://null-byte.wonderhowto.com/how-to/download-all-pdfs-webpage-with-python-script-0163031/)\n",
    "* [here](https://stackoverflow.com/questions/7243750/download-file-from-web-in-python-3)"
   ]
  },
  {
   "cell_type": "code",
   "execution_count": 1,
   "metadata": {},
   "outputs": [],
   "source": [
    "import urllib.parse as urllib\n",
    "import urllib3\n",
    "import os\n",
    "import sys\n",
    "from bs4 import BeautifulSoup\n",
    "import urllib.request as urllibR\n",
    "from requests import get\n",
    "from time import sleep, time\n",
    "import re\n",
    "from random import randint"
   ]
  },
  {
   "cell_type": "markdown",
   "metadata": {},
   "source": [
    "# function to download (bypass using firefox)"
   ]
  },
  {
   "cell_type": "code",
   "execution_count": 2,
   "metadata": {},
   "outputs": [],
   "source": [
    "# 1\n",
    "def obtain_bs4soup(url, bypass):\n",
    "    try:\n",
    "        os.mkdir(download_path)\n",
    "    except:\n",
    "        pass\n",
    "    \n",
    "    headers = {\n",
    "        \"User-Agent\": \"Mozilla/5.0 (X11; Ubuntu; Linux x86_64; rv:47.0) Gecko/20100101 Firefox/47.0\",\n",
    "    }\n",
    "    \n",
    "    ## Choose whether to bypass through firefox\n",
    "    if bypass == True:\n",
    "        request0 = urllibR.Request(url=url, headers=headers)\n",
    "        request = urllibR.urlopen(request0)\n",
    "    else:\n",
    "        request = urllibR.urlopen(url)\n",
    "        \n",
    "    soup = BeautifulSoup(request.read(), \"lxml\")\n",
    "    \n",
    "    return soup"
   ]
  },
  {
   "cell_type": "code",
   "execution_count": 3,
   "metadata": {},
   "outputs": [],
   "source": [
    "# 2\n",
    "def download(url, file_name):\n",
    "    # open in binary mode\n",
    "    with open(file_name, \"wb\") as file:\n",
    "        try:\n",
    "            # get request\n",
    "            response = get(url)\n",
    "            # write to file\n",
    "            file.write(response.content)\n",
    "        except:\n",
    "            print(\"fail\", file_name)\n",
    "#         print(\"wrote\", file_name)"
   ]
  },
  {
   "cell_type": "code",
   "execution_count": 17,
   "metadata": {
    "collapsed": true
   },
   "outputs": [],
   "source": [
    "# url = \"https://pubapps.usitc.gov/applications/publogs/qry_publication_loglist.asp?start=1\"\n",
    "# root = \"https://pubapps.usitc.gov/applications/publogs/qry_publication_loglist.asp?start=\""
   ]
  },
  {
   "cell_type": "code",
   "execution_count": 58,
   "metadata": {
    "collapsed": true
   },
   "outputs": [],
   "source": [
    "# 3\n",
    "# root = \"https://pubapps.usitc.gov/applications/publogs/qry_publication_loglist.asp?start=\"\n",
    "root = \"https://pubapps.usitc.gov/applications/publogs/qry_publication_loglist.asp?psearch=japan&Submit=Search+%28*%29&psearchtype=&start=\""
   ]
  },
  {
   "cell_type": "code",
   "execution_count": 74,
   "metadata": {
    "collapsed": true
   },
   "outputs": [],
   "source": [
    "# 4\n",
    "download_path = \"/Users/tomoyasasaki/Documents/USTradeCommsionJPN/\""
   ]
  },
  {
   "cell_type": "code",
   "execution_count": 60,
   "metadata": {},
   "outputs": [],
   "source": [
    "soup = obtain_bs4soup(url, bypass = False)"
   ]
  },
  {
   "cell_type": "code",
   "execution_count": 9,
   "metadata": {
    "collapsed": true
   },
   "outputs": [],
   "source": [
    "now = time()"
   ]
  },
  {
   "cell_type": "code",
   "execution_count": 10,
   "metadata": {
    "collapsed": true
   },
   "outputs": [
    {
     "name": "stdout",
     "output_type": "stream",
     "text": [
      "http://www.usitc.gov/\n",
      "https://pubapps.usitc.gov/applications/publogs/qry_publication_loglist.asp?export=excel\n",
      "https://pubapps.usitc.gov/applications/publogs/qry_publication_loglist.asp?export=word\n",
      "https://pubapps.usitc.gov/applications/publogs/qry_publication_loglist.asp?cmd=reset\n",
      "https://pubapps.usitc.gov/applications/publogs/qry_publication_logsrch.asp\n",
      "https://pubapps.usitc.gov/applications/publogs/qry_publication_loglist.asp?start=21\n",
      "https://pubapps.usitc.gov/applications/publogs/qry_publication_loglist.asp?start=4721\n",
      "https://pubapps.usitc.gov/applications/publogs/qry_publication_loglist.asp?order=DOCUMENT%5FTYPE&ordertype=ASC\n",
      "https://pubapps.usitc.gov/applications/publogs/qry_publication_loglist.asp?order=CATEGORY&ordertype=ASC\n",
      "https://pubapps.usitc.gov/applications/publogs/qry_publication_loglist.asp?order=PUBLICATION%5FNO&ordertype=ASC\n",
      "https://pubapps.usitc.gov/applications/publogs/qry_publication_loglist.asp?order=DATE%5FOF%5FPUBLICATION&ordertype=ASC\n",
      "https://pubapps.usitc.gov/applications/publogs/qry_publication_loglist.asp?order=TITLE&ordertype=ASC\n",
      "http://www.usitc.gov/publications/pubunavailable.pdf\n",
      "wrote pubunavailable.pdf\n",
      "http://www.usitc.gov/publications/701_731/pub4741.pdf\n",
      "wrote pub4741.pdf\n",
      "http://www.usitc.gov/publications/701_731/pub4740.pdf\n",
      "wrote pub4740.pdf\n",
      "http://www.usitc.gov/publications/safeguards/pub4739-vol_ii.pdf\n",
      "wrote pub4739-vol_ii.pdf\n",
      "http://www.usitc.gov/publications/safeguards/pub4739-vol_i.pdf\n",
      "wrote pub4739-vol_i.pdf\n",
      "http://www.usitc.gov/publications/701_731/pub4738.pdf\n",
      "wrote pub4738.pdf\n",
      "http://www.usitc.gov/publications/701_731/pub4737.pdf\n",
      "wrote pub4737.pdf\n",
      "http://www.usitc.gov/publications/701_731/pub4736.pdf\n",
      "wrote pub4736.pdf\n",
      "http://www.usitc.gov/publications/701_731/pub4735.pdf\n",
      "wrote pub4735.pdf\n",
      "http://www.usitc.gov/publications/701_731/pub4734.pdf\n",
      "wrote pub4734.pdf\n",
      "http://www.usitc.gov/publications/701_731/pub4733.pdf\n",
      "wrote pub4733.pdf\n",
      "http://www.usitc.gov/publications/701_731/pub4732.pdf\n",
      "wrote pub4732.pdf\n",
      "http://www.usitc.gov/publications/701_731/pub4731.pdf\n",
      "wrote pub4731.pdf\n",
      "http://www.usitc.gov/publications/pubunavailable.pdf\n",
      "wrote pubunavailable.pdf\n",
      "http://www.usitc.gov/publications/701_731/pub4729.pdf\n",
      "wrote pub4729.pdf\n",
      "http://www.usitc.gov/publications/332/pub4728.pdf\n",
      "wrote pub4728.pdf\n",
      "http://www.usitc.gov/publications/701_731/pub4727.pdf\n",
      "wrote pub4727.pdf\n",
      "http://www.usitc.gov/publications/pubunavailable.pdf\n",
      "wrote pubunavailable.pdf\n",
      "http://www.usitc.gov/publications/701_731/pub4725.pdf\n",
      "wrote pub4725.pdf\n",
      "http://www.usitc.gov/publications/701_731/pub4724.pdf\n",
      "wrote pub4724.pdf\n",
      "https://pubapps.usitc.gov/applications/publogs/qry_publication_loglist.asp?start=21\n",
      "https://pubapps.usitc.gov/applications/publogs/qry_publication_loglist.asp?start=4721\n",
      "mailto:itcpubrequest@usitc.gov\n"
     ]
    },
    {
     "ename": "TypeError",
     "evalue": "unsupported operand type(s) for -: 'float' and 'builtin_function_or_method'",
     "output_type": "error",
     "traceback": [
      "\u001b[0;31m---------------------------------------------------------------------------\u001b[0m",
      "\u001b[0;31mTypeError\u001b[0m                                 Traceback (most recent call last)",
      "\u001b[0;32m<ipython-input-10-2885d9b5050c>\u001b[0m in \u001b[0;36m<module>\u001b[0;34m()\u001b[0m\n\u001b[1;32m     19\u001b[0m \u001b[0;34m\u001b[0m\u001b[0m\n\u001b[1;32m     20\u001b[0m \u001b[0mend\u001b[0m \u001b[0;34m=\u001b[0m \u001b[0mtime\u001b[0m\u001b[0;34m(\u001b[0m\u001b[0;34m)\u001b[0m\u001b[0;34m\u001b[0m\u001b[0m\n\u001b[0;32m---> 21\u001b[0;31m \u001b[0melapse\u001b[0m \u001b[0;34m=\u001b[0m \u001b[0mend\u001b[0m \u001b[0;34m-\u001b[0m \u001b[0mtime\u001b[0m\u001b[0;34m\u001b[0m\u001b[0m\n\u001b[0m",
      "\u001b[0;31mTypeError\u001b[0m: unsupported operand type(s) for -: 'float' and 'builtin_function_or_method'"
     ]
    }
   ],
   "source": [
    "\n",
    "\n",
    "now = time()\n",
    "for tag in soup.findAll('a', href = True):\n",
    "    tag2 = urllibR.urljoin(url, tag['href'])\n",
    "#     print(os.path.splitext(os.path.basename(tag['href'])) )\n",
    "    print(tag2)\n",
    "    if os.path.splitext(os.path.basename(tag2))[1] == \".pdf\":\n",
    "#         name = os.path.basename(tag2)[:-2]\n",
    "        name = os.path.basename(tag2)\n",
    "#         print(name)\n",
    "#         if name == \"sig_phrases_det.pdf\":\n",
    "#             pass\n",
    "#         else:\n",
    "#         download(tag2, re.sub(r\"\\?.+\" ,\"\",os.path.basename(tag2) ))\n",
    "        download(tag2, name)\n",
    "        sleep(1)\n",
    "#         tmp.append(tag2)\n",
    "\n",
    "end = time()\n",
    "elapse = end - time"
   ]
  },
  {
   "cell_type": "code",
   "execution_count": 61,
   "metadata": {},
   "outputs": [],
   "source": [
    "# 5\n",
    "def DownloadPDF(soupitem,  URL):\n",
    "    for tag in soupitem.findAll('a', href = True):\n",
    "        tag2 = urllibR.urljoin(URL, tag['href'])\n",
    "    #     print(os.path.splitext(os.path.basename(tag['href'])) )\n",
    "#         print(tag2)\n",
    "        if os.path.splitext(os.path.basename(tag2))[1] == \".pdf\":\n",
    "    #         name = os.path.basename(tag2)[:-2]\n",
    "            name = os.path.basename(tag2)\n",
    "    #         print(name)\n",
    "    #         if name == \"sig_phrases_det.pdf\":\n",
    "    #             pass\n",
    "    #         else:\n",
    "    #         download(tag2, re.sub(r\"\\?.+\" ,\"\",os.path.basename(tag2) ))\n",
    "            download(tag2, name)\n",
    "            sleep( randint(1,3) )\n"
   ]
  },
  {
   "cell_type": "code",
   "execution_count": 43,
   "metadata": {},
   "outputs": [
    {
     "data": {
      "text/plain": [
       "5"
      ]
     },
     "execution_count": 43,
     "metadata": {},
     "output_type": "execute_result"
    }
   ],
   "source": [
    "randint(1,10)"
   ]
  },
  {
   "cell_type": "code",
   "execution_count": 76,
   "metadata": {},
   "outputs": [
    {
     "data": {
      "text/plain": [
       "'/Users/tomoyasasaki/Documents/USTradeCommsionJPN'"
      ]
     },
     "execution_count": 76,
     "metadata": {},
     "output_type": "execute_result"
    }
   ],
   "source": [
    "os.getcwd()"
   ]
  },
  {
   "cell_type": "code",
   "execution_count": 75,
   "metadata": {
    "collapsed": true
   },
   "outputs": [],
   "source": [
    "os.chdir(download_path)"
   ]
  },
  {
   "cell_type": "code",
   "execution_count": 79,
   "metadata": {
    "collapsed": true
   },
   "outputs": [
    {
     "name": "stdout",
     "output_type": "stream",
     "text": [
      "14\n",
      "https://pubapps.usitc.gov/applications/publogs/qry_publication_loglist.asp?psearch=japan&Submit=Search+%28*%29&psearchtype=&start=281\n",
      "13\n",
      "https://pubapps.usitc.gov/applications/publogs/qry_publication_loglist.asp?psearch=japan&Submit=Search+%28*%29&psearchtype=&start=261\n",
      "12\n",
      "https://pubapps.usitc.gov/applications/publogs/qry_publication_loglist.asp?psearch=japan&Submit=Search+%28*%29&psearchtype=&start=241\n",
      "11\n",
      "https://pubapps.usitc.gov/applications/publogs/qry_publication_loglist.asp?psearch=japan&Submit=Search+%28*%29&psearchtype=&start=221\n",
      "10\n",
      "https://pubapps.usitc.gov/applications/publogs/qry_publication_loglist.asp?psearch=japan&Submit=Search+%28*%29&psearchtype=&start=201\n",
      "9\n",
      "https://pubapps.usitc.gov/applications/publogs/qry_publication_loglist.asp?psearch=japan&Submit=Search+%28*%29&psearchtype=&start=181\n",
      "8\n",
      "https://pubapps.usitc.gov/applications/publogs/qry_publication_loglist.asp?psearch=japan&Submit=Search+%28*%29&psearchtype=&start=161\n",
      "7\n",
      "https://pubapps.usitc.gov/applications/publogs/qry_publication_loglist.asp?psearch=japan&Submit=Search+%28*%29&psearchtype=&start=141\n",
      "fail pub3185.pdf\n"
     ]
    },
    {
     "ename": "KeyboardInterrupt",
     "evalue": "",
     "output_type": "error",
     "traceback": [
      "\u001b[0;31m---------------------------------------------------------------------------\u001b[0m",
      "\u001b[0;31mKeyboardInterrupt\u001b[0m                         Traceback (most recent call last)",
      "\u001b[0;32m<ipython-input-79-1ceb048b5608>\u001b[0m in \u001b[0;36m<module>\u001b[0;34m()\u001b[0m\n\u001b[1;32m      9\u001b[0m     \u001b[0msoup\u001b[0m \u001b[0;34m=\u001b[0m \u001b[0mobtain_bs4soup\u001b[0m\u001b[0;34m(\u001b[0m\u001b[0murl\u001b[0m\u001b[0;34m,\u001b[0m \u001b[0mbypass\u001b[0m \u001b[0;34m=\u001b[0m \u001b[0;32mTrue\u001b[0m\u001b[0;34m)\u001b[0m\u001b[0;34m\u001b[0m\u001b[0m\n\u001b[1;32m     10\u001b[0m     \u001b[0msleep\u001b[0m\u001b[0;34m(\u001b[0m \u001b[0mrandint\u001b[0m\u001b[0;34m(\u001b[0m\u001b[0;36m1\u001b[0m\u001b[0;34m,\u001b[0m \u001b[0;36m5\u001b[0m\u001b[0;34m)\u001b[0m \u001b[0;34m)\u001b[0m\u001b[0;34m\u001b[0m\u001b[0m\n\u001b[0;32m---> 11\u001b[0;31m     \u001b[0mDownloadPDF\u001b[0m\u001b[0;34m(\u001b[0m\u001b[0msoup\u001b[0m\u001b[0;34m,\u001b[0m \u001b[0murl\u001b[0m\u001b[0;34m)\u001b[0m\u001b[0;34m\u001b[0m\u001b[0m\n\u001b[0m\u001b[1;32m     12\u001b[0m     \u001b[0msleep\u001b[0m\u001b[0;34m(\u001b[0m \u001b[0mrandint\u001b[0m\u001b[0;34m(\u001b[0m\u001b[0;36m1\u001b[0m\u001b[0;34m,\u001b[0m \u001b[0;36m5\u001b[0m\u001b[0;34m)\u001b[0m \u001b[0;34m)\u001b[0m\u001b[0;34m\u001b[0m\u001b[0m\n",
      "\u001b[0;32m<ipython-input-61-bea905bbfd61>\u001b[0m in \u001b[0;36mDownloadPDF\u001b[0;34m(soupitem, URL)\u001b[0m\n\u001b[1;32m     14\u001b[0m     \u001b[0;31m#         download(tag2, re.sub(r\"\\?.+\" ,\"\",os.path.basename(tag2) ))\u001b[0m\u001b[0;34m\u001b[0m\u001b[0;34m\u001b[0m\u001b[0m\n\u001b[1;32m     15\u001b[0m             \u001b[0mdownload\u001b[0m\u001b[0;34m(\u001b[0m\u001b[0mtag2\u001b[0m\u001b[0;34m,\u001b[0m \u001b[0mname\u001b[0m\u001b[0;34m)\u001b[0m\u001b[0;34m\u001b[0m\u001b[0m\n\u001b[0;32m---> 16\u001b[0;31m             \u001b[0msleep\u001b[0m\u001b[0;34m(\u001b[0m \u001b[0mrandint\u001b[0m\u001b[0;34m(\u001b[0m\u001b[0;36m1\u001b[0m\u001b[0;34m,\u001b[0m\u001b[0;36m3\u001b[0m\u001b[0;34m)\u001b[0m \u001b[0;34m)\u001b[0m\u001b[0;34m\u001b[0m\u001b[0m\n\u001b[0m",
      "\u001b[0;31mKeyboardInterrupt\u001b[0m: "
     ]
    }
   ],
   "source": [
    "# 6 --backward\n",
    "\n",
    "for i in range(14, -1, -1):\n",
    "    print(i)\n",
    "    num = 1 + i * 20\n",
    "    url = root + str(num)\n",
    "    print(url)\n",
    "\n",
    "    soup = obtain_bs4soup(url, bypass = True)\n",
    "    sleep( randint(1, 5) )\n",
    "    DownloadPDF(soup, url)\n",
    "    sleep( randint(1, 5) )"
   ]
  },
  {
   "cell_type": "code",
   "execution_count": 78,
   "metadata": {},
   "outputs": [
    {
     "data": {
      "text/plain": [
       "'https://pubapps.usitc.gov/applications/publogs/qry_publication_loglist.asp?psearch=japan&Submit=Search+%28*%29&psearchtype=&start=281'"
      ]
     },
     "execution_count": 78,
     "metadata": {},
     "output_type": "execute_result"
    }
   ],
   "source": [
    "num = 1 + 14 * 20\n",
    "url = root + str(num)\n",
    "url"
   ]
  },
  {
   "cell_type": "code",
   "execution_count": 107,
   "metadata": {},
   "outputs": [],
   "source": [
    "request = urllibR.urlopen(url)"
   ]
  },
  {
   "cell_type": "code",
   "execution_count": 111,
   "metadata": {},
   "outputs": [],
   "source": [
    "soup = BeautifulSoup(html, \"lxml\")"
   ]
  },
  {
   "cell_type": "code",
   "execution_count": 16,
   "metadata": {},
   "outputs": [
    {
     "data": {
      "text/plain": [
       "'https://sites.google.com/site/kanolabweb/'"
      ]
     },
     "execution_count": 16,
     "metadata": {},
     "output_type": "execute_result"
    }
   ],
   "source": [
    "urllibR.urljoin(url, soup.findAll('a', href = True)[0]['href'])"
   ]
  },
  {
   "cell_type": "code",
   "execution_count": 20,
   "metadata": {},
   "outputs": [],
   "source": [
    "t = urllibR.urljoin(url,  soup.findAll('a', href = True)[20]['href'])"
   ]
  },
  {
   "cell_type": "code",
   "execution_count": 31,
   "metadata": {},
   "outputs": [
    {
     "data": {
      "text/plain": [
       "'answer01.pdf'"
      ]
     },
     "execution_count": 31,
     "metadata": {},
     "output_type": "execute_result"
    }
   ],
   "source": [
    "re.sub(r\"\\?.+\" ,\"\",os.path.basename(t) )"
   ]
  },
  {
   "cell_type": "markdown",
   "metadata": {},
   "source": [
    "# if you need to bypass by using firefox use the code below"
   ]
  },
  {
   "cell_type": "code",
   "execution_count": null,
   "metadata": {
    "collapsed": true
   },
   "outputs": [],
   "source": []
  },
  {
   "cell_type": "code",
   "execution_count": null,
   "metadata": {
    "collapsed": true
   },
   "outputs": [],
   "source": []
  },
  {
   "cell_type": "code",
   "execution_count": null,
   "metadata": {
    "collapsed": true
   },
   "outputs": [],
   "source": []
  },
  {
   "cell_type": "code",
   "execution_count": 23,
   "metadata": {
    "collapsed": true
   },
   "outputs": [],
   "source": [
    "headers = {\n",
    "        \"User-Agent\": \"Mozilla/5.0 (X11; Ubuntu; Linux x86_64; rv:47.0) Gecko/20100101 Firefox/47.0\",\n",
    "        }"
   ]
  },
  {
   "cell_type": "code",
   "execution_count": 24,
   "metadata": {},
   "outputs": [],
   "source": [
    "request0 = urllibR.Request(url=url, headers=headers)"
   ]
  },
  {
   "cell_type": "code",
   "execution_count": 27,
   "metadata": {},
   "outputs": [
    {
     "data": {
      "text/plain": [
       "<urllib.request.Request at 0x106f0efd0>"
      ]
     },
     "execution_count": 27,
     "metadata": {},
     "output_type": "execute_result"
    }
   ],
   "source": [
    "request0"
   ]
  },
  {
   "cell_type": "code",
   "execution_count": 25,
   "metadata": {},
   "outputs": [],
   "source": [
    "request = urllibR.urlopen(request0)"
   ]
  },
  {
   "cell_type": "code",
   "execution_count": 26,
   "metadata": {},
   "outputs": [
    {
     "name": "stderr",
     "output_type": "stream",
     "text": [
      "/Users/tomoyasasaki/anaconda/lib/python3.5/site-packages/bs4/__init__.py:166: UserWarning: No parser was explicitly specified, so I'm using the best available HTML parser for this system (\"lxml\"). This usually isn't a problem, but if you run this code on another system, or in a different virtual environment, it may use a different parser and behave differently.\n",
      "\n",
      "To get rid of this warning, change this:\n",
      "\n",
      " BeautifulSoup([your markup])\n",
      "\n",
      "to this:\n",
      "\n",
      " BeautifulSoup([your markup], \"lxml\")\n",
      "\n",
      "  markup_type=markup_type))\n"
     ]
    }
   ],
   "source": [
    "soup = BeautifulSoup(request.read())"
   ]
  },
  {
   "cell_type": "markdown",
   "metadata": {},
   "source": [
    "# if you need to bypass by using firefox use the code above"
   ]
  },
  {
   "cell_type": "code",
   "execution_count": 21,
   "metadata": {
    "collapsed": true
   },
   "outputs": [
    {
     "ename": "URLError",
     "evalue": "<urlopen error unknown url type: view-source>",
     "output_type": "error",
     "traceback": [
      "\u001b[0;31m---------------------------------------------------------------------------\u001b[0m",
      "\u001b[0;31mURLError\u001b[0m                                  Traceback (most recent call last)",
      "\u001b[0;32m<ipython-input-21-528443eb1cca>\u001b[0m in \u001b[0;36m<module>\u001b[0;34m()\u001b[0m\n\u001b[0;32m----> 1\u001b[0;31m \u001b[0mrequest\u001b[0m \u001b[0;34m=\u001b[0m \u001b[0murllibR\u001b[0m\u001b[0;34m.\u001b[0m\u001b[0murlopen\u001b[0m\u001b[0;34m(\u001b[0m\u001b[0murl\u001b[0m\u001b[0;34m)\u001b[0m\u001b[0;34m\u001b[0m\u001b[0m\n\u001b[0m",
      "\u001b[0;32m/Users/tomoyasasaki/anaconda/lib/python3.5/urllib/request.py\u001b[0m in \u001b[0;36murlopen\u001b[0;34m(url, data, timeout, cafile, capath, cadefault, context)\u001b[0m\n\u001b[1;32m    160\u001b[0m     \u001b[0;32melse\u001b[0m\u001b[0;34m:\u001b[0m\u001b[0;34m\u001b[0m\u001b[0m\n\u001b[1;32m    161\u001b[0m         \u001b[0mopener\u001b[0m \u001b[0;34m=\u001b[0m \u001b[0m_opener\u001b[0m\u001b[0;34m\u001b[0m\u001b[0m\n\u001b[0;32m--> 162\u001b[0;31m     \u001b[0;32mreturn\u001b[0m \u001b[0mopener\u001b[0m\u001b[0;34m.\u001b[0m\u001b[0mopen\u001b[0m\u001b[0;34m(\u001b[0m\u001b[0murl\u001b[0m\u001b[0;34m,\u001b[0m \u001b[0mdata\u001b[0m\u001b[0;34m,\u001b[0m \u001b[0mtimeout\u001b[0m\u001b[0;34m)\u001b[0m\u001b[0;34m\u001b[0m\u001b[0m\n\u001b[0m\u001b[1;32m    163\u001b[0m \u001b[0;34m\u001b[0m\u001b[0m\n\u001b[1;32m    164\u001b[0m \u001b[0;32mdef\u001b[0m \u001b[0minstall_opener\u001b[0m\u001b[0;34m(\u001b[0m\u001b[0mopener\u001b[0m\u001b[0;34m)\u001b[0m\u001b[0;34m:\u001b[0m\u001b[0;34m\u001b[0m\u001b[0m\n",
      "\u001b[0;32m/Users/tomoyasasaki/anaconda/lib/python3.5/urllib/request.py\u001b[0m in \u001b[0;36mopen\u001b[0;34m(self, fullurl, data, timeout)\u001b[0m\n\u001b[1;32m    463\u001b[0m             \u001b[0mreq\u001b[0m \u001b[0;34m=\u001b[0m \u001b[0mmeth\u001b[0m\u001b[0;34m(\u001b[0m\u001b[0mreq\u001b[0m\u001b[0;34m)\u001b[0m\u001b[0;34m\u001b[0m\u001b[0m\n\u001b[1;32m    464\u001b[0m \u001b[0;34m\u001b[0m\u001b[0m\n\u001b[0;32m--> 465\u001b[0;31m         \u001b[0mresponse\u001b[0m \u001b[0;34m=\u001b[0m \u001b[0mself\u001b[0m\u001b[0;34m.\u001b[0m\u001b[0m_open\u001b[0m\u001b[0;34m(\u001b[0m\u001b[0mreq\u001b[0m\u001b[0;34m,\u001b[0m \u001b[0mdata\u001b[0m\u001b[0;34m)\u001b[0m\u001b[0;34m\u001b[0m\u001b[0m\n\u001b[0m\u001b[1;32m    466\u001b[0m \u001b[0;34m\u001b[0m\u001b[0m\n\u001b[1;32m    467\u001b[0m         \u001b[0;31m# post-process response\u001b[0m\u001b[0;34m\u001b[0m\u001b[0;34m\u001b[0m\u001b[0m\n",
      "\u001b[0;32m/Users/tomoyasasaki/anaconda/lib/python3.5/urllib/request.py\u001b[0m in \u001b[0;36m_open\u001b[0;34m(self, req, data)\u001b[0m\n\u001b[1;32m    486\u001b[0m \u001b[0;34m\u001b[0m\u001b[0m\n\u001b[1;32m    487\u001b[0m         return self._call_chain(self.handle_open, 'unknown',\n\u001b[0;32m--> 488\u001b[0;31m                                 'unknown_open', req)\n\u001b[0m\u001b[1;32m    489\u001b[0m \u001b[0;34m\u001b[0m\u001b[0m\n\u001b[1;32m    490\u001b[0m     \u001b[0;32mdef\u001b[0m \u001b[0merror\u001b[0m\u001b[0;34m(\u001b[0m\u001b[0mself\u001b[0m\u001b[0;34m,\u001b[0m \u001b[0mproto\u001b[0m\u001b[0;34m,\u001b[0m \u001b[0;34m*\u001b[0m\u001b[0margs\u001b[0m\u001b[0;34m)\u001b[0m\u001b[0;34m:\u001b[0m\u001b[0;34m\u001b[0m\u001b[0m\n",
      "\u001b[0;32m/Users/tomoyasasaki/anaconda/lib/python3.5/urllib/request.py\u001b[0m in \u001b[0;36m_call_chain\u001b[0;34m(self, chain, kind, meth_name, *args)\u001b[0m\n\u001b[1;32m    441\u001b[0m         \u001b[0;32mfor\u001b[0m \u001b[0mhandler\u001b[0m \u001b[0;32min\u001b[0m \u001b[0mhandlers\u001b[0m\u001b[0;34m:\u001b[0m\u001b[0;34m\u001b[0m\u001b[0m\n\u001b[1;32m    442\u001b[0m             \u001b[0mfunc\u001b[0m \u001b[0;34m=\u001b[0m \u001b[0mgetattr\u001b[0m\u001b[0;34m(\u001b[0m\u001b[0mhandler\u001b[0m\u001b[0;34m,\u001b[0m \u001b[0mmeth_name\u001b[0m\u001b[0;34m)\u001b[0m\u001b[0;34m\u001b[0m\u001b[0m\n\u001b[0;32m--> 443\u001b[0;31m             \u001b[0mresult\u001b[0m \u001b[0;34m=\u001b[0m \u001b[0mfunc\u001b[0m\u001b[0;34m(\u001b[0m\u001b[0;34m*\u001b[0m\u001b[0margs\u001b[0m\u001b[0;34m)\u001b[0m\u001b[0;34m\u001b[0m\u001b[0m\n\u001b[0m\u001b[1;32m    444\u001b[0m             \u001b[0;32mif\u001b[0m \u001b[0mresult\u001b[0m \u001b[0;32mis\u001b[0m \u001b[0;32mnot\u001b[0m \u001b[0;32mNone\u001b[0m\u001b[0;34m:\u001b[0m\u001b[0;34m\u001b[0m\u001b[0m\n\u001b[1;32m    445\u001b[0m                 \u001b[0;32mreturn\u001b[0m \u001b[0mresult\u001b[0m\u001b[0;34m\u001b[0m\u001b[0m\n",
      "\u001b[0;32m/Users/tomoyasasaki/anaconda/lib/python3.5/urllib/request.py\u001b[0m in \u001b[0;36munknown_open\u001b[0;34m(self, req)\u001b[0m\n\u001b[1;32m   1308\u001b[0m     \u001b[0;32mdef\u001b[0m \u001b[0munknown_open\u001b[0m\u001b[0;34m(\u001b[0m\u001b[0mself\u001b[0m\u001b[0;34m,\u001b[0m \u001b[0mreq\u001b[0m\u001b[0;34m)\u001b[0m\u001b[0;34m:\u001b[0m\u001b[0;34m\u001b[0m\u001b[0m\n\u001b[1;32m   1309\u001b[0m         \u001b[0mtype\u001b[0m \u001b[0;34m=\u001b[0m \u001b[0mreq\u001b[0m\u001b[0;34m.\u001b[0m\u001b[0mtype\u001b[0m\u001b[0;34m\u001b[0m\u001b[0m\n\u001b[0;32m-> 1310\u001b[0;31m         \u001b[0;32mraise\u001b[0m \u001b[0mURLError\u001b[0m\u001b[0;34m(\u001b[0m\u001b[0;34m'unknown url type: %s'\u001b[0m \u001b[0;34m%\u001b[0m \u001b[0mtype\u001b[0m\u001b[0;34m)\u001b[0m\u001b[0;34m\u001b[0m\u001b[0m\n\u001b[0m\u001b[1;32m   1311\u001b[0m \u001b[0;34m\u001b[0m\u001b[0m\n\u001b[1;32m   1312\u001b[0m \u001b[0;32mdef\u001b[0m \u001b[0mparse_keqv_list\u001b[0m\u001b[0;34m(\u001b[0m\u001b[0ml\u001b[0m\u001b[0;34m)\u001b[0m\u001b[0;34m:\u001b[0m\u001b[0;34m\u001b[0m\u001b[0m\n",
      "\u001b[0;31mURLError\u001b[0m: <urlopen error unknown url type: view-source>"
     ]
    }
   ],
   "source": [
    "request = urllibR.urlopen(url)"
   ]
  },
  {
   "cell_type": "code",
   "execution_count": 6,
   "metadata": {},
   "outputs": [
    {
     "name": "stderr",
     "output_type": "stream",
     "text": [
      "/Users/tomoyasasaki/anaconda/lib/python3.5/site-packages/bs4/__init__.py:166: UserWarning: No parser was explicitly specified, so I'm using the best available HTML parser for this system (\"lxml\"). This usually isn't a problem, but if you run this code on another system, or in a different virtual environment, it may use a different parser and behave differently.\n",
      "\n",
      "To get rid of this warning, change this:\n",
      "\n",
      " BeautifulSoup([your markup])\n",
      "\n",
      "to this:\n",
      "\n",
      " BeautifulSoup([your markup], \"lxml\")\n",
      "\n",
      "  markup_type=markup_type))\n"
     ]
    }
   ],
   "source": [
    "soup = BeautifulSoup(request.read())"
   ]
  },
  {
   "cell_type": "code",
   "execution_count": 28,
   "metadata": {
    "collapsed": true
   },
   "outputs": [],
   "source": [
    "http = urllib3.PoolManager()"
   ]
  },
  {
   "cell_type": "code",
   "execution_count": 11,
   "metadata": {
    "collapsed": true
   },
   "outputs": [],
   "source": [
    "def download(url, file_name):\n",
    "    # open in binary mode\n",
    "    with open(file_name, \"wb\") as file:\n",
    "        # get request\n",
    "        response = get(url)\n",
    "        # write to file\n",
    "        file.write(response.content)\n",
    "        print(\"wrote\", file_name)"
   ]
  },
  {
   "cell_type": "code",
   "execution_count": null,
   "metadata": {
    "collapsed": true
   },
   "outputs": [],
   "source": [
    "os.mkdir(download_path) "
   ]
  },
  {
   "cell_type": "code",
   "execution_count": 27,
   "metadata": {
    "collapsed": true
   },
   "outputs": [],
   "source": [
    "os.chdir(download_path)"
   ]
  },
  {
   "cell_type": "code",
   "execution_count": 28,
   "metadata": {
    "scrolled": true
   },
   "outputs": [
    {
     "name": "stdout",
     "output_type": "stream",
     "text": [
      "week_01.pdf\n",
      "wrote week_01.pdf\n",
      "BengioDucharmeVincentJanvin2003.pdf\n",
      "wrote BengioDucharmeVincentJanvin2003.pdf\n",
      "week_02.pdf\n",
      "wrote week_02.pdf\n",
      "MikolovSutskeverChenCorradoDean2013.pdf\n",
      "wrote MikolovSutskeverChenCorradoDean2013.pdf\n",
      "PenningtonSocherManning2014.pdf\n",
      "wrote PenningtonSocherManning2014.pdf\n",
      "AroraLiLiangMaRisteski2015.pdf\n",
      "wrote AroraLiLiangMaRisteski2015.pdf\n",
      "week_03.pdf\n",
      "wrote week_03.pdf\n",
      "AroraLiLiangMaRisteski2016.pdf\n",
      "wrote AroraLiLiangMaRisteski2016.pdf\n",
      "LevyGoldberg2014.pdf\n",
      "wrote LevyGoldberg2014.pdf\n",
      "LeMikolov2014.pdf\n",
      "wrote LeMikolov2014.pdf\n",
      "week_04.pdf\n",
      "wrote week_04.pdf\n",
      "BhattacharyaDunson2012.pdf\n",
      "wrote BhattacharyaDunson2012.pdf\n",
      "ZhouBhattacharyaHerringDunson2014.pdf\n",
      "wrote ZhouBhattacharyaHerringDunson2014.pdf\n",
      "week_05.pdf\n",
      "wrote week_05.pdf\n",
      "HoffmanBleiWangPaisley2013a.pdf\n",
      "wrote HoffmanBleiWangPaisley2013a.pdf\n",
      "RanganathGerrishBlei2014.pdf\n",
      "wrote RanganathGerrishBlei2014.pdf\n",
      "BleiKucukelbirMcAuliffe2016_errata.pdf\n",
      "wrote BleiKucukelbirMcAuliffe2016_errata.pdf\n",
      "KingmaWelling2013.pdf\n",
      "wrote KingmaWelling2013.pdf\n",
      "week_06.pdf\n",
      "wrote week_06.pdf\n",
      "RabinovichBlei2014.pdf\n",
      "wrote RabinovichBlei2014.pdf\n",
      "RabinovichBlei2014a.pdf\n",
      "wrote RabinovichBlei2014a.pdf\n",
      "week_07.pdf\n",
      "wrote week_07.pdf\n",
      "GershmanBlei2012.pdf\n",
      "wrote GershmanBlei2012.pdf\n",
      "Neal2000b.pdf\n",
      "wrote Neal2000b.pdf\n",
      "berger-festschrift.pdf\n",
      "wrote berger-festschrift.pdf\n",
      "TehJor2010a.pdf\n",
      "wrote TehJor2010a.pdf\n",
      "bnp.pdf\n",
      "wrote bnp.pdf\n",
      "week_08.pdf\n",
      "wrote week_08.pdf\n",
      "week_09.pdf\n",
      "wrote week_09.pdf\n",
      "1209.3442v3.pdf\n",
      "wrote 1209.3442v3.pdf\n",
      "week_10.pdf\n",
      "wrote week_10.pdf\n",
      "1412.0048.pdf\n",
      "wrote 1412.0048.pdf\n"
     ]
    }
   ],
   "source": [
    "for tag in soup.findAll('a', href = True):\n",
    "    tag2 = urllibR.urljoin(url, tag['href'])\n",
    "#     print(os.path.splitext(os.path.basename(tag['href'])) )\n",
    "    \n",
    "    if os.path.splitext(os.path.basename(tag2))[1] == \".pdf\" :\n",
    "#         print()\n",
    "#         name = os.path.basename(tag2)[:-2]\n",
    "        name = os.path.basename(tag2)\n",
    "        print(name)\n",
    "        download(tag2, name)\n",
    "        sleep(1)\n",
    "#         tmp.append(tag2)"
   ]
  },
  {
   "cell_type": "code",
   "execution_count": 138,
   "metadata": {
    "collapsed": true
   },
   "outputs": [
    {
     "name": "stderr",
     "output_type": "stream",
     "text": [
      "/Users/tomoyasasaki/anaconda/lib/python3.5/site-packages/bs4/__init__.py:166: UserWarning: No parser was explicitly specified, so I'm using the best available HTML parser for this system (\"lxml\"). This usually isn't a problem, but if you run this code on another system, or in a different virtual environment, it may use a different parser and behave differently.\n",
      "\n",
      "To get rid of this warning, change this:\n",
      "\n",
      " BeautifulSoup([your markup])\n",
      "\n",
      "to this:\n",
      "\n",
      " BeautifulSoup([your markup], \"lxml\")\n",
      "\n",
      "  markup_type=markup_type))\n"
     ]
    },
    {
     "name": "stdout",
     "output_type": "stream",
     "text": [
      "('', '')\n",
      "('R_%28programming_language%29', '')\n",
      "('Short-refcard', '.pdf')\n",
      "('refcard', '.pdf')\n",
      "('Rrefcard', '.pdf')\n",
      "('Rcard', '.pdf')\n",
      "('doku', '.php?id=getting-started:reference-cards:reference-cards')\n",
      "('R-intro', '.pdf')\n",
      "('Verzani-SimpleR', '.pdf#search=%22SimpleR%22')\n",
      "('1390947', '')\n",
      "('R_inferno', '.pdf')\n",
      "('', '')\n",
      "('other-docs', '.html')\n",
      "('manuals', '.html')\n",
      "('faqs', '.html')\n",
      "('index', '.html')\n",
      "('R-books', '.html')\n",
      "('dWs', '')\n",
      "('pWs', '')\n",
      "('Ws.pval', '.exact')\n",
      "('Ws.pval', '.sim')\n",
      "('psycholcounsel', '')\n",
      "('psycholcounsel', '.sim')\n",
      "('ST', '.rank')\n",
      "('SiegelTukey', '')\n",
      "('KS', '.Kfun')\n",
      "('ks.statistic', '.int')\n",
      "('KS', '.statistic')\n",
      "('KSapprox', '')\n",
      "('GK', '.formula')\n",
      "('PsychEx1', '')\n",
      "('normal.scores', '.estimate')\n",
      "('NS.test', '.R')\n",
      "('SignedRank', '')\n",
      "('BlockedWilcoxon', '')\n",
      "('AlignedBlockedWilcoxon', '')\n",
      "('AlignedBlocksRankSum', '.coin')\n",
      "('KW3', '')\n",
      "('PowerSignRank', '')\n",
      "('MuscleGain', '')\n",
      "('mice0', '.fr')\n",
      "('HW1Solution', '.pdf')\n",
      "('HW2', '.pdf')\n",
      "('HW2Solution', '.pdf')\n",
      "('HW3', '.pdf')\n",
      "('HW3sol', '.txt')\n",
      "('HW4', '.pdf')\n",
      "('HW4Solution', '.pdf')\n",
      "('HW5', '.pdf')\n",
      "('HW5Solution', '.pdf')\n",
      "('HW6', '.pdf')\n",
      "('HW6Solution', '.pdf')\n",
      "('HW7', '.pdf')\n",
      "('HW7Solution', '.pdf')\n",
      "('HW8', '.pdf')\n",
      "('HW8Solution', '.pdf')\n",
      "('HW9', '.pdf')\n",
      "('HW9Solution', '.pdf')\n",
      "('#english', '')\n",
      "('#nenglish', '')\n",
      "('index', '.html')\n",
      "('other-docs', '.html')\n",
      "('contrib', '')\n",
      "('Shipunov-visual_statistics', '.pdf')\n",
      "('r-en', '.htm')\n",
      "('usingR', '.pdf')\n",
      "('', '')\n",
      "('Faraway-PRA', '.pdf')\n",
      "('', '')\n",
      "('appendix', '.html')\n",
      "('Alzola+Harrell-Hmisc-Design-Intro', '.pdf')\n",
      "('Harrell-statcomp-notes', '.pdf')\n",
      "('Kuhnert+Venables-R_Course_Notes', '.zip')\n",
      "('Rossiter-RIntro-ITC', '.pdf')\n",
      "('Epicalc_Book', '.pdf')\n",
      "('Seefeld_StatsRBio', '.pdf')\n",
      "('Robinson-icebreaker', '.pdf')\n",
      "('Krijnen-IntroBioInfStatistics', '.pdf')\n",
      "('Lam-IntroductionToR_LHL', '.pdf')\n",
      "('Zhao_R_and_data_mining', '.pdf')\n",
      "('Horton+Pruim+Kaplan_MOSAIC-StudentGuide', '.pdf')\n",
      "('Olszewski-R_for_biostatisticians', '.pdf')\n",
      "('Paradis-rdebuts_en', '.pdf')\n",
      "('Lemon-kickstart_1.6', '.tgz')\n",
      "('Lemon-kickstart_1.6', '.zip')\n",
      "('index', '.html')\n",
      "('Baron-rpsych', '.pdf')\n",
      "('rpsych', '.html')\n",
      "('Wang-WinBook', '.pdf')\n",
      "('Wang-WinBook.tar', '.gz')\n",
      "('cross-build', '.pdf')\n",
      "('Makefile-rcb', '')\n",
      "('Burns-unwilling_S', '.pdf')\n",
      "('R_language', '.pdf')\n",
      "('Ricci-distributions-en', '.pdf')\n",
      "('Farnsworth-EconometricsInR', '.pdf')\n",
      "('Farnsworth-EconometricsInR', '.tgz')\n",
      "('Marthews-BeginnersRcourse', '.zip')\n",
      "('Vikneswaran-ED_companion', '.pdf')\n",
      "('Owen-TheRGuide', '.pdf')\n",
      "('Bliese_Multilevel', '.pdf')\n",
      "('Quene', '.pdf')\n",
      "('Soetaert_Scientificcomputing', '.zip')\n",
      "('Genolini-S4tutorialV0-5en', '.pdf')\n",
      "('Leisch-CreatingPackages', '.pdf')\n",
      "('Graves+DoraiRaj-RPackageDevelopment', '.pdf')\n",
      "('Graves+DoraiRaj-RPackageDevelopment', '.ppt')\n",
      "('Sharma-CreditScoring', '.pdf')\n",
      "('Martinez-RforBiologistv1.1', '.pdf')\n",
      "('Karp-Rcommander-intro2', '.pdf')\n",
      "('Hiebeler-matlabR', '.pdf')\n",
      "('de_Jonge+van_der_Loo-Introduction_to_data_cleaning_with_R', '.pdf')\n",
      "('intro-spatial-rl', '.pdf')\n",
      "('', '')\n",
      "('refcard', '.pdf')\n",
      "('R-and-octave', '.txt')\n",
      "('', '')\n",
      "('', '')\n",
      "('Ricci-refcard-ts', '.pdf')\n",
      "('Ricci-refcard-regression', '.pdf')\n",
      "('Short-refcard', '.pdf')\n",
      "('Short-refcard', '.zip')\n",
      "('YanchangZhao-refcard-data-mining', '.pdf')\n",
      "('Torfs+Brauer-Short-R-Intro', '.pdf')\n",
      "('Baggott-refcard-v2', '.pdf')\n",
      "('Ding-R-intro_cn', '.pdf')\n",
      "('', '')\n",
      "('Liu-R-refcard', '.pdf')\n",
      "('Liu-FAQ', '.pdf')\n",
      "('faqs', '.html')\n",
      "('Xu-Statistics_and_R', '.pdf')\n",
      "('Kasum+Legovic-UvodUr', '.pdf')\n",
      "('Kasum-QuickRefCard_ver.1.2', '.pdf')\n",
      "('CviceniR1', '.pdf')\n",
      "('Larsen+Sestof-noter-om-R', '.pdf')\n",
      "('Mousavi-R-lang_in_Farsi', '.pdf')\n",
      "('Raeesi-SNA_in_R_in_Farsi', '.pdf')\n",
      "('Mousavi-R_topics_in_Farsi', '.pdf')\n",
      "('Gaudron-GuideRcmdr', '.pdf')\n",
      "('Paradis-rdebuts_fr', '.pdf')\n",
      "('Brostaux-Introduction-au-R', '.zip')\n",
      "('Brostaux-Introduction-au-R.tar', '.gz')\n",
      "('Goulet_introduction_programmation_R', '.pdf')\n",
      "('Goulet_introduction_programmation_R', '.zip')\n",
      "('VincentGouletIntroR', '')\n",
      "('IceBreak_fr', '.pdf')\n",
      "('Barnier-intro_R', '.pdf')\n",
      "('Kauffmann_aide_memoire_R', '.pdf')\n",
      "('Kauffmann_aide_memoire_R', '.odt')\n",
      "('Genolini-PetitManuelDeS4', '.pdf')\n",
      "('Genolini-LireCompterTesterR', '.pdf')\n",
      "('Genolini-ConstruireUnPackage', '.pdf')\n",
      "('Genolini-RBonnesPratiques', '.pdf')\n",
      "('Herve-Aide-memoire-statistique', '.pdf')\n",
      "('Charpentier_Dutang_actuariat_avec_R', '.pdf')\n",
      "('Sawitzki-Einfuehrung', '.pdf')\n",
      "('', '')\n",
      "('Grosz+Peters-R-Reader', '.pdf')\n",
      "('Dormann+Kuehn_AngewandteStatistik', '.pdf')\n",
      "('Torfs+Brauer-very-short-intro-to-R-greek', '.pdf')\n",
      "('mainfokianoscharalambous', '.pdf')\n",
      "('Katsileros', '.pdf')\n",
      "('Solymosi-Rjegyzet', '.pdf')\n",
      "('nozioniR', '.pdf')\n",
      "('Mineo-dispensaR', '.pdf')\n",
      "('Mineo-dispensaR.tar', '.gz')\n",
      "('Ricci-ts-italian', '.pdf')\n",
      "('Ricci-distributions-it', '.pdf')\n",
      "('Eschgfaeller-mabbs-algoritmi', '.pdf')\n",
      "('Frascati-FormularioStatisticaR', '.pdf')\n",
      "('Fondamenti-0405', '.pdf')\n",
      "('Ricci-regression-it', '.pdf')\n",
      "('Frascati-Rpackages', '.pdf')\n",
      "('DellOmodarme-esercitazioni-R', '.pdf')\n",
      "('Guirreri-EconometRia', '.pdf')\n",
      "('', '')\n",
      "('', '')\n",
      "('', '')\n",
      "('', '')\n",
      "('', '')\n",
      "('Mase-Rstatman', '.pdf')\n",
      "('www.openstatistics', '.net')\n",
      "('Zagdanski+Suchwalko-TSAFBook-part', '.pdf')\n",
      "('tsafbook.quantup', '.pl')\n",
      "('Komsta-Wprowadzenie', '.pdf')\n",
      "('Komsta-Wprowadzenie.ps', '.gz')\n",
      "('Biecek-R-basics', '.pdf')\n",
      "('', '')\n",
      "('Dudek_Spis_tresci_R', '.pdf')\n",
      "('Dudek_Procedury_R', '.zip')\n",
      "('Gorecki_s_btcCRAN', '.pdf')\n",
      "('Gatnar_Walesiak_contents', '.pdf')\n",
      "('Gatnar_Walesiak_scripts_data', '.zip')\n",
      "('Walesiak_GDM_contents', '.pdf')\n",
      "('Walesiak_GDM_scripts_data', '.zip')\n",
      "('wprowadzenie_do_R', '.pdf')\n",
      "('R-dla-programistow-innych-jezykow', '.pdf')\n",
      "('Beasley-BioestatisticaUsandoR', '.pdf')\n",
      "('Beasley-BioestatisticaUsandoRDados', '.zip')\n",
      "('biometria', '.pdf')\n",
      "('biometria-data', '.zip')\n",
      "('Torgo-ProgrammingIntro', '.pdf')\n",
      "('Itano-descriptive-stats', '.pdf')\n",
      "('Itano-installation', '.pdf')\n",
      "('Provete-Estatistica_aplicada', '.pdf')\n",
      "('teaching', '.html')\n",
      "('Landeiro-Introducao', '.pdf')\n",
      "('', '')\n",
      "('Paradis-rdebuts_RO', '.pdf')\n",
      "('Shipunov-rbook', '.pdf')\n",
      "('R-books_bib', '.html#R:Shipunov+Baldin+Volkova:2012')\n",
      "('r-ru', '.htm')\n",
      "('FundamentalsOfProbAndMStatistics-Slovak', '.pdf')\n",
      "('rdebuts_es', '.pdf')\n",
      "('R-intro-1.1.0-espanol.1', '.pdf')\n",
      "('R-intro-1.1.0-espanol.1', '.zip')\n",
      "('grafi3', '.pdf')\n",
      "('Risk-Cartas-sobre-Estadistica', '.pdf')\n",
      "('curso-R.Diaz-Uriarte', '.pdf')\n",
      "('Rivera-Tutorial_Sweave', '.pdf')\n",
      "('Saez-Castillo-RRCmdrv21', '.pdf')\n",
      "('Saez-Castillo-Datos', '.zip')\n",
      "('Optimizacion_Matematica_con_R_Volumen_I', '.pdf')\n",
      "('Chicana-Introduccion_al_uso_de_R', '.pdf')\n",
      "('Santana_El_arte_de_programar_en_R', '.pdf')\n",
      "('', '')\n",
      "('Hnatyuk-R-book-ua', '.pdf')\n",
      "('Intro_to_R_Vietnamese', '.pdf')\n",
      "('contrib', '')\n",
      "('R-intro', '.html')\n",
      "('R-intro', '.pdf')\n",
      "('R-intro', '.epub')\n",
      "('R-intro', '.html')\n",
      "('R-intro', '.pdf')\n",
      "('R-intro', '.epub')\n",
      "('R-intro', '.html')\n",
      "('R-intro', '.pdf')\n",
      "('R-intro', '.epub')\n",
      "('R-data', '.html')\n",
      "('R-data', '.pdf')\n",
      "('R-data', '.epub')\n",
      "('R-data', '.html')\n",
      "('R-data', '.pdf')\n",
      "('R-data', '.epub')\n",
      "('R-data', '.html')\n",
      "('R-data', '.pdf')\n",
      "('R-data', '.epub')\n",
      "('R-admin', '.html')\n",
      "('R-admin', '.pdf')\n",
      "('R-admin', '.epub')\n",
      "('R-admin', '.html')\n",
      "('R-admin', '.pdf')\n",
      "('R-admin', '.epub')\n",
      "('R-admin', '.html')\n",
      "('R-admin', '.pdf')\n",
      "('R-admin', '.epub')\n",
      "('R-exts', '.html')\n",
      "('R-exts', '.pdf')\n",
      "('R-exts', '.epub')\n",
      "('R-exts', '.html')\n",
      "('R-exts', '.pdf')\n",
      "('R-exts', '.epub')\n",
      "('R-exts', '.html')\n",
      "('R-exts', '.pdf')\n",
      "('R-exts', '.epub')\n",
      "('R-lang', '.html')\n",
      "('R-lang', '.pdf')\n",
      "('R-lang', '.epub')\n",
      "('R-lang', '.html')\n",
      "('R-lang', '.pdf')\n",
      "('R-lang', '.epub')\n",
      "('R-lang', '.html')\n",
      "('R-lang', '.pdf')\n",
      "('R-lang', '.epub')\n",
      "('R-ints', '.html')\n",
      "('R-ints', '.pdf')\n",
      "('R-ints', '.epub')\n",
      "('R-ints', '.html')\n",
      "('R-ints', '.pdf')\n",
      "('R-ints', '.epub')\n",
      "('R-ints', '.html')\n",
      "('R-ints', '.pdf')\n",
      "('R-ints', '.epub')\n",
      "('fullrefman', '.pdf')\n",
      "('fullrefman', '.pdf')\n",
      "('fullrefman', '.pdf')\n",
      "('other-docs', '.html')\n",
      "('', '')\n",
      "('R-FAQ', '.html')\n",
      "('RMacOSX-FAQ', '.html')\n",
      "('RMacOSX-FAQ', '.html')\n",
      "('rw-FAQ', '.html')\n",
      "('R-FAQ', '.html')\n",
      "('mirror-howto', '.html')\n",
      "('journal.r-project', '.org')\n",
      "('www.R-project', '.org')\n",
      "('Rnewsbib', '.html')\n",
      "('Rnews_2008-2', '.pdf')\n",
      "('Rnews_2008-2_errata', '.txt')\n",
      "('Rnews_2008-1', '.pdf')\n",
      "('Rnews_2008-1_errata', '.txt')\n",
      "('Rnews_2007-3', '.pdf')\n",
      "('Rnews_2007-2', '.pdf')\n",
      "('Rnews_2007-1', '.pdf')\n",
      "('Rnews_2006-5', '.pdf')\n",
      "('Rnews_2006-5_errata', '.txt')\n",
      "('Rnews_2006-4', '.pdf')\n",
      "('Rnews_2006-3', '.pdf')\n",
      "('Rnews_2006-3_errata', '.txt')\n",
      "('Rnews_2006-2', '.pdf')\n",
      "('Rnews_2006-1', '.pdf')\n",
      "('Rnews_2005-2', '.pdf')\n",
      "('Rnews_2005-2_errata', '.txt')\n",
      "('Rnews_2005-1', '.pdf')\n",
      "('Rnews_2004-2', '.pdf')\n",
      "('Rnews_2004-2.ps', '.gz')\n",
      "('Rnews_2004-1', '.pdf')\n",
      "('Rnews_2004-1.ps', '.gz')\n",
      "('Rnews_2003-3', '.pdf')\n",
      "('Rnews_2003-3.ps', '.gz')\n",
      "('Rnews_2003-2', '.pdf')\n",
      "('Rnews_2003-2.ps', '.gz')\n",
      "('Rnews_2003-1', '.pdf')\n",
      "('Rnews_2003-1.ps', '.gz')\n",
      "('Rnews_2002-3', '.pdf')\n",
      "('Rnews_2002-3.ps', '.gz')\n",
      "('Rnews_2002-2', '.pdf')\n",
      "('Rnews_2002-2.ps', '.gz')\n",
      "('Rnews_2002-1', '.pdf')\n",
      "('Rnews_2002-1.ps', '.gz')\n",
      "('Rnews_2001-3', '.pdf')\n",
      "('Rnews_2001-3.ps', '.gz')\n",
      "('Rnews_2001-2', '.pdf')\n",
      "('Rnews_2001-2.ps', '.gz')\n",
      "('Rnews_2001-1', '.pdf')\n",
      "('Rnews_2001-1.ps', '.gz')\n",
      "('Rnews', '.bib')\n",
      "('R-other', '.html')\n",
      "('R-jabref', '.html')\n",
      "('R-books_bib', '.html#R:Rahlf:2017')\n",
      "('9783319497501', '')\n",
      "('www.datavisualisation-r', '.com')\n",
      "('R-books_bib', '.html#SteveMurray:2017')\n",
      "('ref=sr_1_1?s=digital-text&ie=UTF8&qid=1496261881&sr=1-1', '')\n",
      "('R-books_bib', '.html#R:Leemis:2016')\n",
      "('0982917481', '')\n",
      "('R-books_bib', '.html#R:Dayal:2015')\n",
      "('978-81-322-2340-5', '')\n",
      "('csun.cfr.msstate', '.edu')\n",
      "('R-books_bib', '.html#R:Sun:2015')\n",
      "('ref=aag_m_pw_dp?ie=UTF8&m=A1TZL30UWYSSR8', '')\n",
      "('R-books_bib', '.html#R:Kohl:2015de')\n",
      "('einfuhrung-in-die-statistische-datenanalyse-mit-r-ebook', '')\n",
      "('R-books_bib', '.html#R:Kohl:2015en')\n",
      "('introduction-to-statistical-data-analysis-with-r-ebook', '')\n",
      "('R-books_bib', '.html#R:Blangiardo+Cameletti:2015')\n",
      "('productCd-1118326555', '.html')\n",
      "('R-books_bib', '.html#R:Daroczi:2015')\n",
      "('mastering-data-analysis-r', '')\n",
      "('R-books_bib', '.html#R:Bloomfield:2014')\n",
      "('9781439884485', '')\n",
      "('R-books_bib', '.html#R:Hothorn+Everitt:2014')\n",
      "('9781482204582', '')\n",
      "('R-books_bib', '.html#R:Rahlf:2014')\n",
      "('978-3-95539-094-5', '')\n",
      "('www.datendesign-r', '.de')\n",
      "('R-books_bib', '.html#R:Stowell:2014')\n",
      "('9781484201404', '')\n",
      "('R-books_bib', '.html#R:Tsay:2014')\n",
      "('productCd-1118617908', '.html')\n",
      "('', '')\n",
      "('R-books_bib', '.html#R:Nash:2014')\n",
      "('R-books_bib', '.html#R:Crawley:2014')\n",
      "('productCd-1118941098', '.html')\n",
      "('', '')\n",
      "('R-books_bib', '.html#R:Bellanger+Tomassone:2014')\n",
      "('product_info', '.php?products_id=9529')\n",
      "('ouvrage', '.html')\n",
      "('R-books_bib', '.html#R:Noel:2013')\n",
      "('978-2-8178-0424-8', '')\n",
      "('R-books_bib', '.html#R:Xie:2013')\n",
      "('9781482203530', '')\n",
      "('', '')\n",
      "('R-books_bib', '.html#R:Murray:2013')\n",
      "('ref=cm_cr_pr_pb_t', '')\n",
      "('R-books_bib', '.html#R:Tsay:2013')\n",
      "('productCd-0470890819', '.html')\n",
      "('', '')\n",
      "('R-books_bib', '.html#R:Kohl:2013')\n",
      "('analyse-von-genexpressionsdaten-ebook', '')\n",
      "('R-books_bib', '.html#R:Knell:2013')\n",
      "('www.introductoryr.co', '.uk')\n",
      "('R-books_bib', '.html#R:Hilbe:2013')\n",
      "('crcpress', '.txt')\n",
      "('9781439858028', '')\n",
      "('R-books_bib', '.html#R:Daroczi+Puhle+Berlinger:2013')\n",
      "('book', '')\n",
      "('R-books_bib', '.html#R:Gandrud:2013')\n",
      "('9781466572843', '')\n",
      "('R-books_bib', '.html#R:Eddelbuettel:2013')\n",
      "('springer', '.txt')\n",
      "('978-1-4614-6867-7', '')\n",
      "('R-books_bib', '.html#R:Chen:2013')\n",
      "('crcpress', '.txt')\n",
      "('9781466505995', '')\n",
      "('R-books_bib', '.html#R:Buuren:2012')\n",
      "('crcpress', '.txt')\n",
      "('9781439868249', '')\n",
      "('R-books_bib', '.html#R:Pekar+Brabec:2012')\n",
      "('pekar', '')\n",
      "('R-books_bib', '.html#R:Soetaert+Cash+Mazzia:2012')\n",
      "('978-3-642-28070-2', '')\n",
      "('R-books_bib', '.html#R:Stowell:2012')\n",
      "('book', '')\n",
      "('R-books_bib', '.html#R:Pfaff:2012')\n",
      "('productCd-0470978708', '.html')\n",
      "('wiley', '.html')\n",
      "('R-books_bib', '.html#R:Lunn:2012')\n",
      "('crcpress', '.txt')\n",
      "('9781584888499', '')\n",
      "('R-books_bib', '.html#R:Lawrence:2012')\n",
      "('crcpress', '.txt')\n",
      "('9781439856826', '')\n",
      "('R-books_bib', '.html#R:Brostroem:2012')\n",
      "('crcpress', '.txt')\n",
      "('9781439831649', '')\n",
      "('R-books_bib', '.html#R:Rizopoulos:2012')\n",
      "('9781439872864', '')\n",
      "('', '')\n",
      "('R-books_bib', '.html#R:Dennis:2012')\n",
      "('crcpress', '.txt')\n",
      "('9781439875407', '')\n",
      "('R-books_bib', '.html#R:Cornillon:2012')\n",
      "('crcpress', '.txt')\n",
      "('9781439881453', '')\n",
      "('R-books_bib', '.html#R:Shipunov+Baldin+Volkova:2012')\n",
      "('R-books_bib', '.html#R:Aragon:2011')\n",
      "('978-2-8178-0207-7', '')\n",
      "('R-books_bib', '.html#R:Cornillon+Matzner-Lober:2011')\n",
      "('978-2-8178-0183-4', '')\n",
      "('R-books_bib', '.html#R:Peternelli+Mello:2011')\n",
      "('detalhes', '.asp?idproduto=1593809')\n",
      "('R-books_bib', '.html#R:Teetor:2011a')\n",
      "('9780596809157', '')\n",
      "('R-books_bib', '.html#R:Teetor:2011b')\n",
      "('9781449303228', '')\n",
      "('R-books_bib', '.html#R:Murrell:2011')\n",
      "('crcpress', '.txt')\n",
      "('9781439831762', '')\n",
      "('R-books_bib', '.html#R:Chihara+Hesterberg:2011')\n",
      "('productCd-1118029852', '.html')\n",
      "('home', '')\n",
      "('R-books_bib', '.html#R:Fox+Weisberg:2011')\n",
      "('index', '.html')\n",
      "('R-books_bib', '.html#R:Mittal:2011')\n",
      "('book', '')\n",
      "('R-books_bib', '.html#R:Williams:2011')\n",
      "('springer', '.txt')\n",
      "('978-1-4419-9889-7', '')\n",
      "('rattle.togaware', '.com')\n",
      "('R-books_bib', '.html#R:Gilli+Maringer+Schumann:2011')\n",
      "('Numerical-Methods-and-Optimization-in-Finance', '')\n",
      "('nmof', '.net')\n",
      "('R-books_bib', '.html#R:Falissard:2011')\n",
      "('crcpress', '.txt')\n",
      "('9781439817667', '')\n",
      "('R-books_bib', '.html#R:Eubank:2011')\n",
      "('crcpress', '.txt')\n",
      "('9781420066500', '')\n",
      "('R-books_bib', '.html#R:Ekstrom:2011')\n",
      "('crcpress', '.txt')\n",
      "('9781439862063', '')\n",
      "('R-books_bib', '.html#R:Curran:2011')\n",
      "('', '')\n",
      "('R-books_bib', '.html#R:Robert+Casella:2011')\n",
      "('978-2-8178-0180-3', '')\n",
      "('R-books_bib', '.html#R:Jahans:2011')\n",
      "('crcpress', '.txt')\n",
      "('9781439873656', '')\n",
      "('R-books_bib', '.html#R:Berridge:2011')\n",
      "('crcpress', '.txt')\n",
      "('9781439813263', '')\n",
      "('R-books_bib', '.html#R:Vasishth+Broe:2010')\n",
      "('springer', '.txt')\n",
      "('978-3-642-16312-8', '')\n",
      "('R-books_bib', '.html#R:Muenchen+Hilbe:2010')\n",
      "('springer', '.txt')\n",
      "('978-1-4419-1317-3', '')\n",
      "('R-books_bib', '.html#R:Kabacoff:2010')\n",
      "('kabacoff', '')\n",
      "('R-books_bib', '.html#R:Cornillon+Guyader+Husson:2010')\n",
      "('detail', '.php?idOuv=1836')\n",
      "('', '')\n",
      "('R-books_bib', '.html#R:Lafaye:2010')\n",
      "('springeR', '')\n",
      "('R-books_bib', '.html#R:Adler:2010')\n",
      "('index', '.html')\n",
      "('R-books_bib', '.html#R:Quick:2010')\n",
      "('book', '')\n",
      "('R-books_bib', '.html#R:Husson+Le+Pages:2010')\n",
      "('crcpress', '.txt')\n",
      "('9781439835807', '')\n",
      "('book', '')\n",
      "('book', '')\n",
      "('R-books_bib', '.html#R:Ruppert:2010')\n",
      "('springer', '.txt')\n",
      "('978-1-4419-7786-1', '')\n",
      "('R-books_bib', '.html#R:Robert+Casella:2010')\n",
      "('springer', '.txt')\n",
      "('978-1-4419-1575-7', '')\n",
      "('R-books_bib', '.html#R:Chen:2010')\n",
      "('crcpress', '.txt')\n",
      "('9781439840207', '')\n",
      "('R-books_bib', '.html#R:Gaetan+Guyon:2010')\n",
      "('springer', '.txt')\n",
      "('978-0-387-92256-0', '')\n",
      "('R-books_bib', '.html#R:Robinson+Hamann:2010')\n",
      "('springer', '.txt')\n",
      "('978-1-4419-7761-8', '')\n",
      "('R-books_bib', '.html#R:Vinod:2010')\n",
      "('springer', '.txt')\n",
      "('978-1-4419-1763-8', '')\n",
      "('R-books_bib', '.html#R:Bloomfield:2009')\n",
      "('978-1-4419-0083-8', '')\n",
      "('R-books_bib', '.html#R:Ligges:2009')\n",
      "('978-3-540-79997-9', '')\n",
      "('', '')\n",
      "('R-books_bib', '.html#R:Pekar+Brabec:2009')\n",
      "('4373-moderni-analyza-biologickych-dat-zobecnene-linearni-modely-v-prostredi-r', '.html')\n",
      "('R-books_bib', '.html#R:Muenchen:2009')\n",
      "('springer', '.txt')\n",
      "('978-1-4614-0685-3', '')\n",
      "('R-books_bib', '.html#R:Heiberger+Neuwirth:2009')\n",
      "('springer', '.txt')\n",
      "('978-1-4419-0051-7', '')\n",
      "('', '')\n",
      "('R-books_bib', '.html#R:Hoff:2009')\n",
      "('springer', '.txt')\n",
      "('978-0-387-92299-7', '')\n",
      "('R-books_bib', '.html#R:Cowpertwait+Metcalfe:2009')\n",
      "('springer', '.txt')\n",
      "('978-0-387-88697-8', '')\n",
      "('', '')\n",
      "('R-books_bib', '.html#R:Jones+Maillardet+Robinson:2009')\n",
      "('crcpress', '.txt')\n",
      "('9781420068726', '')\n",
      "('R-books_bib', '.html#R:Stevens:2009')\n",
      "('springer', '.txt')\n",
      "('978-0-387-89881-0', '')\n",
      "('R-books_bib', '.html#R:Varmuza+Filzmoser:2009')\n",
      "('product_detail', '.asp?id=&parent_id=&sku=59475&isbn=9781420059472&pc=')\n",
      "('', '')\n",
      "('R-books_bib', '.html#R:Broman+Sen:2009')\n",
      "('springer', '.txt')\n",
      "('978-0-387-92124-2', '')\n",
      "('R-books_bib', '.html#R:Velten:2009')\n",
      "('productCd-3527407588', '.html')\n",
      "('R-books_bib', '.html#R:Albert:2009')\n",
      "('springer', '.txt')\n",
      "('978-0-387-92298-0', '')\n",
      "('R-books_bib', '.html#R:Ramsay+Hooker+Graves:2009')\n",
      "('springer', '.txt')\n",
      "('978-0-387-98184-0', '')\n",
      "('www.functionaldata', '.org')\n",
      "('R-books_bib', '.html#R:Wickham:2009')\n",
      "('springer', '.txt')\n",
      "('978-0-98140-6', '')\n",
      "('R-books_bib', '.html#R:Sawitzki:2009')\n",
      "('9781420086782', '')\n",
      "('R-books_bib', '.html#R:Petris+Petrone+Campagnoli:2009')\n",
      "('springer', '.txt')\n",
      "('978-0-387-77238-7', '')\n",
      "('R-books_bib', '.html#R:Millot:2009')\n",
      "('Publications_livre', '.htm')\n",
      "('R-books_bib', '.html#R:Husson+Le+Pages:2009')\n",
      "('detail', '.php?idOuv=2166')\n",
      "('book', '')\n",
      "('R-books_bib', '.html#R:Steyerberg:2009')\n",
      "('springer', '.txt')\n",
      "('978-0-387-77243-1', '')\n",
      "('R-books_bib', '.html#R:Reymann:2009')\n",
      "('index', '.php?option=com_content&task=view&id=10&Itemid=13')\n",
      "('www.reymann', '.eu')\n",
      "('R-books_bib', '.html#R:Wright:2009')\n",
      "('book233198', '')\n",
      "('book233198', '')\n",
      "('R-books_bib', '.html#R:Ritz+Streibig:2009')\n",
      "('springer', '.txt')\n",
      "('978-0-387-09615-5', '')\n",
      "('R-books_bib', '.html#R:Foulkes:2009')\n",
      "('springer', '.txt')\n",
      "('978-0-387-89554-3', '')\n",
      "('R-books_bib', '.html#R:Zuur+Ieno+Walker:2009')\n",
      "('springer', '.txt')\n",
      "('978-0-387-87457-9', '')\n",
      "('www.highstat', '.com')\n",
      "('R-books_bib', '.html#R:Zuur+Ieno+Meesters:2009')\n",
      "('springer', '.txt')\n",
      "('978-0-387-93836-3', '')\n",
      "('R-books_bib', '.html#R:Iacus:2007')\n",
      "('springer', '.txt')\n",
      "('978-0-387-75838-1', '')\n",
      "('R-books_bib', '.html#R:Sheather:2008')\n",
      "('springer', '.txt')\n",
      "('978-0-387-09607-0', '')\n",
      "('R-books_bib', '.html#R:Sarkar:2008')\n",
      "('springer', '.txt')\n",
      "('978-0-387-75968-5', '')\n",
      "('lmdvr.r-forge.r-project', '.org')\n",
      "('R-books_bib', '.html#R:Bivand+Pebesma+Gomez-Rubio:2008')\n",
      "('springer', '.txt')\n",
      "('978-0-387-78170-9', '')\n",
      "('www.asdar-book', '.org')\n",
      "('R-books_bib', '.html#R:Peng+Dominici:2008')\n",
      "('springer', '.txt')\n",
      "('978-0-387-78166-2', '')\n",
      "('R-books_bib', '.html#R:Gentleman:2008a')\n",
      "('R-books_bib', '.html#R:Gentleman:2008b')\n",
      "('crcpress', '.txt')\n",
      "('9781420063677', '')\n",
      "('', '')\n",
      "('R-books_bib', '.html#R:Spector:2008')\n",
      "('springer', '.txt')\n",
      "('978-0-387-74730-9', '')\n",
      "('R-books_bib', '.html#R:Pfaff:2008')\n",
      "('springer', '.txt')\n",
      "('978-0-387-75966-1', '')\n",
      "('R-books_bib', '.html#R:Dalgaard:2008')\n",
      "('springer', '.txt')\n",
      "('978-0-387-79053-4', '')\n",
      "('R-books_bib', '.html#R:Rizzo:2008')\n",
      "('crcpress', '.txt')\n",
      "('9781584885450', '')\n",
      "('R-books_bib', '.html#R:Keele:2008')\n",
      "('productCd-0470319917', '.html')\n",
      "('', '')\n",
      "('R-books_bib', '.html#R:Cryer+Chan:2008')\n",
      "('springer', '.txt')\n",
      "('978-0-387-75958-6', '')\n",
      "('R-books_bib', '.html#R:Chambers:2008')\n",
      "('springer', '.txt')\n",
      "('978-0-387-75935-7', '')\n",
      "('', '')\n",
      "('R-books_bib', '.html#R:Vinod:2008')\n",
      "('6895', '.html')\n",
      "('R-books_bib', '.html#R:Nason:2008')\n",
      "('springer', '.txt')\n",
      "('978-0-387-75960-9', '')\n",
      "('R-books_bib', '.html#R:Reimann+Filzmoser+Garrett:2008')\n",
      "('productCd-047098581X', '.html')\n",
      "('StatDA', '')\n",
      "('R-books_bib', '.html#R:Claude:2008')\n",
      "('springer', '.txt')\n",
      "('978-0-387-77789-4', '')\n",
      "('R-books_bib', '.html#R:Kleiber+Zeileis:2008')\n",
      "('springer', '.txt')\n",
      "('978-0-387-77316-2', '')\n",
      "('package=AER', '')\n",
      "('R-books_bib', '.html#R:Bolker:2008')\n",
      "('8709', '.html')\n",
      "('', '')\n",
      "('R-books_bib', '.html#R:Braun+Murdoch:2007')\n",
      "('catalogue', '.asp?isbn=9780521872652')\n",
      "('', '')\n",
      "('R-books_bib', '.html#R:Lynch:2007')\n",
      "('springer', '.txt')\n",
      "('978-0-387-71265-9', '')\n",
      "('R-books_bib', '.html#R:Dudoit+Laan:2007')\n",
      "('springer', '.txt')\n",
      "('978-0-387-49317-6', '')\n",
      "('R-books_bib', '.html#R:Boland:2007')\n",
      "('crcpress', '.txt')\n",
      "('9781584886952', '')\n",
      "('R-books_bib', '.html#R:Greenacre:2007')\n",
      "('crcpress', '.txt')\n",
      "('9781584886167', '')\n",
      "('R-books_bib', '.html#R:Maindonald+Braun:2007')\n",
      "('', '')\n",
      "('daagur3', '.html')\n",
      "('R-books_bib', '.html#R:Marin+Robert:2007')\n",
      "('springer', '.txt')\n",
      "('978-0-387-38979-0', '')\n",
      "('R-books_bib', '.html#R:Cook+Swayne:2007')\n",
      "('springer', '.txt')\n",
      "('978-0-387-71761-6', '')\n",
      "('R-books_bib', '.html#R:Siegmund+Yakir:2007')\n",
      "('springer', '.txt')\n",
      "('978-0-387-49684-9', '')\n",
      "('R-books_bib', '.html#R:Wood:2006')\n",
      "('crcpress', '.txt')\n",
      "('9781584884743', '')\n",
      "('package=gamair', '')\n",
      "('R-books_bib', '.html#R:Shumway+Stoffer:2006')\n",
      "('springer', '.txt')\n",
      "('978-0-387-29317-2', '')\n",
      "('R-books_bib', '.html#R:Diggle+Ribeiro:2006')\n",
      "('springer', '.txt')\n",
      "('978-0-387-48536-2', '')\n",
      "('R-books_bib', '.html#R:Le+Zidek:2006')\n",
      "('springer', '.txt')\n",
      "('978-0-387-35429-3', '')\n",
      "('R-books_bib', '.html#R:Sachs+Hedderich:2006')\n",
      "('978-3-540-32160-6', '')\n",
      "('R-books_bib', '.html#R:Faraway:2006')\n",
      "('crcpress', '.txt')\n",
      "('9781584884248', '')\n",
      "('', '')\n",
      "('R-books_bib', '.html#R:Jureckova+Picek:2006')\n",
      "('crcpress', '.txt')\n",
      "('9781584884545', '')\n",
      "('R-books_bib', '.html#R:Paradis:2006')\n",
      "('springer', '.txt')\n",
      "('978-1-4614-1743-9', '')\n",
      "('R-books_bib', '.html#R:Everitt+Hothorn:2006')\n",
      "('crcpress', '.txt')\n",
      "('package=HSAUR', '')\n",
      "('R-books_bib', '.html#R:Deonier+Tavare+Waterman:2005')\n",
      "('springer', '.txt')\n",
      "('978-0-387-28807-9', '')\n",
      "('R-books_bib', '.html#R:Murrell:2005')\n",
      "('crcpress', '.txt')\n",
      "('9781584884866', '')\n",
      "('rgraphics', '.html')\n",
      "('R-books_bib', '.html#R:Crawley:2005')\n",
      "('', '')\n",
      "('R-books_bib', '.html#R:Verzani:2005')\n",
      "('crcpress', '.txt')\n",
      "('9781584884507', '')\n",
      "('R-books_bib', '.html#R:Murtagh:2005')\n",
      "('crcpress', '.txt')\n",
      "('9781420034943', '')\n",
      "('', '')\n",
      "('R-books_bib', '.html#R:Everitt:2005')\n",
      "('springer', '.txt')\n",
      "('978-1-84628-124-2', '')\n",
      "('', '')\n",
      "('R-books_bib', '.html#R:Behr:2005')\n",
      "('R-books_bib', '.html#R:Gentleman+Carey+Huber:2005')\n",
      "('springer', '.txt')\n",
      "('978-0-387-29362-2', '')\n",
      "('R-books_bib', '.html#R:Mase+Kamakura+Jimbo:2004')\n",
      "('R-books_bib', '.html#R:Heiberger+Holland:2004')\n",
      "('springer', '.txt')\n",
      "('978-1-4757-4284-8', '')\n",
      "('HH', '')\n",
      "('R-books_bib', '.html#R:Faraway:2004')\n",
      "('crcpress', '.txt')\n",
      "('9781584884255', '')\n",
      "('', '')\n",
      "('R-books_bib', '.html#R:Dolic:2004')\n",
      "('R-books_bib', '.html#R:Huet+Bouvier+Gruet+Jolivet:2003')\n",
      "('springer', '.txt')\n",
      "('978-0-387-21574-7', '')\n",
      "('R-books_bib', '.html#R:Iacus+Masarotto:2003')\n",
      "('catlibro', '.asp?item_id=2958')\n",
      "('R-books_bib', '.html#R:Parmigiani+Garrett+Irizarry+Zeger:2003')\n",
      "('springer', '.txt')\n",
      "('978-0-387-21679-9', '')\n",
      "('R-books_bib', '.html#R:Venables+Ripley:2002')\n",
      "('springer', '.txt')\n",
      "('978-0-387-21706-2', '')\n",
      "('', '')\n",
      "('R-books_bib', '.html#R:Fox:2002')\n",
      "('index', '.html')\n",
      "('R-books_bib', '.html#R:Limas+Mere+Juez:2001')\n",
      "('R-books_bib', '.html#R:Harrell:2001')\n",
      "('springer', '.txt')\n",
      "('978-3-319-19425-7', '')\n",
      "('RmS', '')\n",
      "('R-books_bib', '.html#R:Venables+Ripley:2000')\n",
      "('springer', '.txt')\n",
      "('978-0-387-21856-4', '')\n",
      "('', '')\n",
      "('R-books_bib', '.html#R:Therneau+Grambsch:2000')\n",
      "('springer', '.txt')\n",
      "('978-1-4757-3294-8', '')\n",
      "('R-books_bib', '.html#R:Pinheiro+Bates:2000')\n",
      "('springer', '.txt')\n",
      "('978-0-387-22747-4', '')\n",
      "('R-books_bib', '.html#R:Nolan+Speed:2000')\n",
      "('springer', '.txt')\n",
      "('978-0-387-22743-6', '')\n",
      "('', '')\n",
      "('R-books_bib', '.html#R:Chambers:1998')\n",
      "('springer', '.txt')\n",
      "('978-0-387-98503-9', '')\n",
      "('R-books_bib', '.html#R:Chambers+Hastie:1992')\n",
      "('crcpress', '.txt')\n",
      "('9780412830402', '')\n",
      "('R-books_bib', '.html#R:Becker+Chambers+Wilks:1988')\n",
      "('', '')\n",
      "('fritzbuzz', '.jpg')\n",
      "('', '')\n",
      "('LibraryCard', '.jpg')\n",
      "('thesis', '.pdf')\n",
      "('bootstrap-report', '.pdf')\n",
      "('confbd', '.pdf')\n",
      "('varcomptolcpk', '.pdf')\n",
      "('holepin', '.pdf')\n",
      "('holematch', '.pdf')\n",
      "('isstech-95-030', '.pdf')\n",
      "('multivar', '.pdf')\n",
      "('NoncentralT', '.pdf')\n",
      "('extrap', '.pdf')\n",
      "('StatEtymologyA', '.pdf')\n",
      "('Daytonnew0', '.pdf')\n",
      "('career', '.pdf')\n",
      "('MathSciencesTalk2', '.pdf')\n",
      "('DSC02443', '.JPG')\n",
      "('stick2', '.jpg')\n",
      "('stick3', '.jpg')\n",
      "('stick4', '.jpg')\n",
      "('stick5', '.jpg')\n",
      "('DSC02448', '.JPG')\n",
      "('Jaeckel', '.html')\n",
      "('Stat302-Winter2015', '.html')\n",
      "('Stat502-Fall2013', '.html')\n",
      "('Stat498B2008', '.html')\n",
      "('Stat425_Spring2013', '.html')\n",
      "('stat311', '.htm')\n",
      "('Stat394A_Winter2011', '.html')\n",
      "('', '')\n",
      "('', '')\n",
      "('mirrors', '.html')\n",
      "('about', '.html')\n",
      "('', '')\n",
      "('contributors', '.html')\n",
      "('news', '.html')\n",
      "('bugs', '.html')\n",
      "('developer.R-project', '.org')\n",
      "('conferences', '.html')\n",
      "('search', '.html')\n",
      "('', '')\n",
      "('board', '.html')\n",
      "('members', '.html')\n",
      "('donors', '.html')\n",
      "('donations', '.html')\n",
      "('help', '.html')\n",
      "('manuals', '.html')\n",
      "('faqs', '.html')\n",
      "('journal.r-project', '.org')\n",
      "('R-books', '.html')\n",
      "('certification', '.html')\n",
      "('other-docs', '.html')\n",
      "('www.bioconductor', '.org')\n",
      "('other-projects', '.html')\n",
      "('manuals', '.html')\n",
      "('faqs', '.html')\n",
      "('journal.r-project', '.org')\n",
      "('', '')\n",
      "('', '')\n",
      "('other-docs', '.html')\n",
      "('R-books', '.html')\n",
      "('R-other', '.html')\n",
      "('www.jstatsoft', '.org')\n",
      "('DSC', '.html')\n",
      "('', '')\n",
      "('other-docs', '.html')\n",
      "('', '')\n",
      "('', '')\n",
      "('list', '.html#pubs_m_R')\n",
      "('matlabR', '.html')\n",
      "('default', '.aspx')\n",
      "('', '')\n",
      "('index', '.html')\n",
      "('a-little-book-of-r-for-biomedical-statistics.readthedocs', '.org')\n",
      "('a-little-book-of-r-for-time-series.readthedocs', '.org')\n",
      "('little-book-of-r-for-multivariate-analysis.readthedocs', '.org')\n",
      "('', '')\n",
      "('Einfuehrung_R', '.pdf')\n",
      "('Statistik', '.pdf')\n",
      "('r-ru', '.htm')\n",
      "('r-en', '.htm')\n",
      "('help', '.html')\n",
      "('Appendix-Nonlinear-Regression', '.pdf')\n",
      "('Appendix-Robust-Regression', '.pdf')\n",
      "('Appendix-Nonparametric-Regression', '.pdf')\n",
      "('Appendix-Timeseries-Regression', '.pdf')\n",
      "('Appendix-Cox-Regression', '.pdf')\n",
      "('Appendix-Multivariate-Linear-Models', '.pdf')\n",
      "('Appendix-Mixed-Models', '.pdf')\n",
      "('Appendix-SEMs', '.pdf')\n",
      "('Appendix-Bootstrapping', '.pdf')\n",
      "('mailto:jfox@mcmaster', '.ca')\n"
     ]
    },
    {
     "ename": "HTTPError",
     "evalue": "HTTP Error 404: Not Found",
     "output_type": "error",
     "traceback": [
      "\u001b[0;31m---------------------------------------------------------------------------\u001b[0m",
      "\u001b[0;31mHTTPError\u001b[0m                                 Traceback (most recent call last)",
      "\u001b[0;32m<ipython-input-138-fd06a52a7cd2>\u001b[0m in \u001b[0;36m<module>\u001b[0;34m()\u001b[0m\n\u001b[1;32m      1\u001b[0m \u001b[0;32mfor\u001b[0m \u001b[0mitem\u001b[0m \u001b[0;32min\u001b[0m \u001b[0mtmp\u001b[0m\u001b[0;34m:\u001b[0m\u001b[0;34m\u001b[0m\u001b[0m\n\u001b[0;32m----> 2\u001b[0;31m     \u001b[0mrequest\u001b[0m \u001b[0;34m=\u001b[0m \u001b[0murllibR\u001b[0m\u001b[0;34m.\u001b[0m\u001b[0murlopen\u001b[0m\u001b[0;34m(\u001b[0m\u001b[0mitem\u001b[0m\u001b[0;34m)\u001b[0m\u001b[0;34m\u001b[0m\u001b[0m\n\u001b[0m\u001b[1;32m      3\u001b[0m     \u001b[0msoup\u001b[0m \u001b[0;34m=\u001b[0m \u001b[0mBeautifulSoup\u001b[0m\u001b[0;34m(\u001b[0m\u001b[0mrequest\u001b[0m\u001b[0;34m.\u001b[0m\u001b[0mread\u001b[0m\u001b[0;34m(\u001b[0m\u001b[0;34m)\u001b[0m\u001b[0;34m)\u001b[0m\u001b[0;34m\u001b[0m\u001b[0m\n\u001b[1;32m      4\u001b[0m     \u001b[0;32mfor\u001b[0m \u001b[0mtag\u001b[0m \u001b[0;32min\u001b[0m \u001b[0msoup\u001b[0m\u001b[0;34m.\u001b[0m\u001b[0mfindAll\u001b[0m\u001b[0;34m(\u001b[0m\u001b[0;34m'a'\u001b[0m\u001b[0;34m,\u001b[0m \u001b[0mhref\u001b[0m \u001b[0;34m=\u001b[0m \u001b[0;32mTrue\u001b[0m\u001b[0;34m)\u001b[0m\u001b[0;34m:\u001b[0m\u001b[0;34m\u001b[0m\u001b[0m\n\u001b[1;32m      5\u001b[0m         \u001b[0mtag2\u001b[0m \u001b[0;34m=\u001b[0m \u001b[0murllibR\u001b[0m\u001b[0;34m.\u001b[0m\u001b[0murljoin\u001b[0m\u001b[0;34m(\u001b[0m\u001b[0murl\u001b[0m\u001b[0;34m,\u001b[0m \u001b[0mtag\u001b[0m\u001b[0;34m[\u001b[0m\u001b[0;34m'href'\u001b[0m\u001b[0;34m]\u001b[0m\u001b[0;34m)\u001b[0m\u001b[0;34m\u001b[0m\u001b[0m\n",
      "\u001b[0;32m/Users/tomoyasasaki/anaconda/lib/python3.5/urllib/request.py\u001b[0m in \u001b[0;36murlopen\u001b[0;34m(url, data, timeout, cafile, capath, cadefault, context)\u001b[0m\n\u001b[1;32m    160\u001b[0m     \u001b[0;32melse\u001b[0m\u001b[0;34m:\u001b[0m\u001b[0;34m\u001b[0m\u001b[0m\n\u001b[1;32m    161\u001b[0m         \u001b[0mopener\u001b[0m \u001b[0;34m=\u001b[0m \u001b[0m_opener\u001b[0m\u001b[0;34m\u001b[0m\u001b[0m\n\u001b[0;32m--> 162\u001b[0;31m     \u001b[0;32mreturn\u001b[0m \u001b[0mopener\u001b[0m\u001b[0;34m.\u001b[0m\u001b[0mopen\u001b[0m\u001b[0;34m(\u001b[0m\u001b[0murl\u001b[0m\u001b[0;34m,\u001b[0m \u001b[0mdata\u001b[0m\u001b[0;34m,\u001b[0m \u001b[0mtimeout\u001b[0m\u001b[0;34m)\u001b[0m\u001b[0;34m\u001b[0m\u001b[0m\n\u001b[0m\u001b[1;32m    163\u001b[0m \u001b[0;34m\u001b[0m\u001b[0m\n\u001b[1;32m    164\u001b[0m \u001b[0;32mdef\u001b[0m \u001b[0minstall_opener\u001b[0m\u001b[0;34m(\u001b[0m\u001b[0mopener\u001b[0m\u001b[0;34m)\u001b[0m\u001b[0;34m:\u001b[0m\u001b[0;34m\u001b[0m\u001b[0m\n",
      "\u001b[0;32m/Users/tomoyasasaki/anaconda/lib/python3.5/urllib/request.py\u001b[0m in \u001b[0;36mopen\u001b[0;34m(self, fullurl, data, timeout)\u001b[0m\n\u001b[1;32m    469\u001b[0m         \u001b[0;32mfor\u001b[0m \u001b[0mprocessor\u001b[0m \u001b[0;32min\u001b[0m \u001b[0mself\u001b[0m\u001b[0;34m.\u001b[0m\u001b[0mprocess_response\u001b[0m\u001b[0;34m.\u001b[0m\u001b[0mget\u001b[0m\u001b[0;34m(\u001b[0m\u001b[0mprotocol\u001b[0m\u001b[0;34m,\u001b[0m \u001b[0;34m[\u001b[0m\u001b[0;34m]\u001b[0m\u001b[0;34m)\u001b[0m\u001b[0;34m:\u001b[0m\u001b[0;34m\u001b[0m\u001b[0m\n\u001b[1;32m    470\u001b[0m             \u001b[0mmeth\u001b[0m \u001b[0;34m=\u001b[0m \u001b[0mgetattr\u001b[0m\u001b[0;34m(\u001b[0m\u001b[0mprocessor\u001b[0m\u001b[0;34m,\u001b[0m \u001b[0mmeth_name\u001b[0m\u001b[0;34m)\u001b[0m\u001b[0;34m\u001b[0m\u001b[0m\n\u001b[0;32m--> 471\u001b[0;31m             \u001b[0mresponse\u001b[0m \u001b[0;34m=\u001b[0m \u001b[0mmeth\u001b[0m\u001b[0;34m(\u001b[0m\u001b[0mreq\u001b[0m\u001b[0;34m,\u001b[0m \u001b[0mresponse\u001b[0m\u001b[0;34m)\u001b[0m\u001b[0;34m\u001b[0m\u001b[0m\n\u001b[0m\u001b[1;32m    472\u001b[0m \u001b[0;34m\u001b[0m\u001b[0m\n\u001b[1;32m    473\u001b[0m         \u001b[0;32mreturn\u001b[0m \u001b[0mresponse\u001b[0m\u001b[0;34m\u001b[0m\u001b[0m\n",
      "\u001b[0;32m/Users/tomoyasasaki/anaconda/lib/python3.5/urllib/request.py\u001b[0m in \u001b[0;36mhttp_response\u001b[0;34m(self, request, response)\u001b[0m\n\u001b[1;32m    579\u001b[0m         \u001b[0;32mif\u001b[0m \u001b[0;32mnot\u001b[0m \u001b[0;34m(\u001b[0m\u001b[0;36m200\u001b[0m \u001b[0;34m<=\u001b[0m \u001b[0mcode\u001b[0m \u001b[0;34m<\u001b[0m \u001b[0;36m300\u001b[0m\u001b[0;34m)\u001b[0m\u001b[0;34m:\u001b[0m\u001b[0;34m\u001b[0m\u001b[0m\n\u001b[1;32m    580\u001b[0m             response = self.parent.error(\n\u001b[0;32m--> 581\u001b[0;31m                 'http', request, response, code, msg, hdrs)\n\u001b[0m\u001b[1;32m    582\u001b[0m \u001b[0;34m\u001b[0m\u001b[0m\n\u001b[1;32m    583\u001b[0m         \u001b[0;32mreturn\u001b[0m \u001b[0mresponse\u001b[0m\u001b[0;34m\u001b[0m\u001b[0m\n",
      "\u001b[0;32m/Users/tomoyasasaki/anaconda/lib/python3.5/urllib/request.py\u001b[0m in \u001b[0;36merror\u001b[0;34m(self, proto, *args)\u001b[0m\n\u001b[1;32m    507\u001b[0m         \u001b[0;32mif\u001b[0m \u001b[0mhttp_err\u001b[0m\u001b[0;34m:\u001b[0m\u001b[0;34m\u001b[0m\u001b[0m\n\u001b[1;32m    508\u001b[0m             \u001b[0margs\u001b[0m \u001b[0;34m=\u001b[0m \u001b[0;34m(\u001b[0m\u001b[0mdict\u001b[0m\u001b[0;34m,\u001b[0m \u001b[0;34m'default'\u001b[0m\u001b[0;34m,\u001b[0m \u001b[0;34m'http_error_default'\u001b[0m\u001b[0;34m)\u001b[0m \u001b[0;34m+\u001b[0m \u001b[0morig_args\u001b[0m\u001b[0;34m\u001b[0m\u001b[0m\n\u001b[0;32m--> 509\u001b[0;31m             \u001b[0;32mreturn\u001b[0m \u001b[0mself\u001b[0m\u001b[0;34m.\u001b[0m\u001b[0m_call_chain\u001b[0m\u001b[0;34m(\u001b[0m\u001b[0;34m*\u001b[0m\u001b[0margs\u001b[0m\u001b[0;34m)\u001b[0m\u001b[0;34m\u001b[0m\u001b[0m\n\u001b[0m\u001b[1;32m    510\u001b[0m \u001b[0;34m\u001b[0m\u001b[0m\n\u001b[1;32m    511\u001b[0m \u001b[0;31m# XXX probably also want an abstract factory that knows when it makes\u001b[0m\u001b[0;34m\u001b[0m\u001b[0;34m\u001b[0m\u001b[0m\n",
      "\u001b[0;32m/Users/tomoyasasaki/anaconda/lib/python3.5/urllib/request.py\u001b[0m in \u001b[0;36m_call_chain\u001b[0;34m(self, chain, kind, meth_name, *args)\u001b[0m\n\u001b[1;32m    441\u001b[0m         \u001b[0;32mfor\u001b[0m \u001b[0mhandler\u001b[0m \u001b[0;32min\u001b[0m \u001b[0mhandlers\u001b[0m\u001b[0;34m:\u001b[0m\u001b[0;34m\u001b[0m\u001b[0m\n\u001b[1;32m    442\u001b[0m             \u001b[0mfunc\u001b[0m \u001b[0;34m=\u001b[0m \u001b[0mgetattr\u001b[0m\u001b[0;34m(\u001b[0m\u001b[0mhandler\u001b[0m\u001b[0;34m,\u001b[0m \u001b[0mmeth_name\u001b[0m\u001b[0;34m)\u001b[0m\u001b[0;34m\u001b[0m\u001b[0m\n\u001b[0;32m--> 443\u001b[0;31m             \u001b[0mresult\u001b[0m \u001b[0;34m=\u001b[0m \u001b[0mfunc\u001b[0m\u001b[0;34m(\u001b[0m\u001b[0;34m*\u001b[0m\u001b[0margs\u001b[0m\u001b[0;34m)\u001b[0m\u001b[0;34m\u001b[0m\u001b[0m\n\u001b[0m\u001b[1;32m    444\u001b[0m             \u001b[0;32mif\u001b[0m \u001b[0mresult\u001b[0m \u001b[0;32mis\u001b[0m \u001b[0;32mnot\u001b[0m \u001b[0;32mNone\u001b[0m\u001b[0;34m:\u001b[0m\u001b[0;34m\u001b[0m\u001b[0m\n\u001b[1;32m    445\u001b[0m                 \u001b[0;32mreturn\u001b[0m \u001b[0mresult\u001b[0m\u001b[0;34m\u001b[0m\u001b[0m\n",
      "\u001b[0;32m/Users/tomoyasasaki/anaconda/lib/python3.5/urllib/request.py\u001b[0m in \u001b[0;36mhttp_error_default\u001b[0;34m(self, req, fp, code, msg, hdrs)\u001b[0m\n\u001b[1;32m    587\u001b[0m \u001b[0;32mclass\u001b[0m \u001b[0mHTTPDefaultErrorHandler\u001b[0m\u001b[0;34m(\u001b[0m\u001b[0mBaseHandler\u001b[0m\u001b[0;34m)\u001b[0m\u001b[0;34m:\u001b[0m\u001b[0;34m\u001b[0m\u001b[0m\n\u001b[1;32m    588\u001b[0m     \u001b[0;32mdef\u001b[0m \u001b[0mhttp_error_default\u001b[0m\u001b[0;34m(\u001b[0m\u001b[0mself\u001b[0m\u001b[0;34m,\u001b[0m \u001b[0mreq\u001b[0m\u001b[0;34m,\u001b[0m \u001b[0mfp\u001b[0m\u001b[0;34m,\u001b[0m \u001b[0mcode\u001b[0m\u001b[0;34m,\u001b[0m \u001b[0mmsg\u001b[0m\u001b[0;34m,\u001b[0m \u001b[0mhdrs\u001b[0m\u001b[0;34m)\u001b[0m\u001b[0;34m:\u001b[0m\u001b[0;34m\u001b[0m\u001b[0m\n\u001b[0;32m--> 589\u001b[0;31m         \u001b[0;32mraise\u001b[0m \u001b[0mHTTPError\u001b[0m\u001b[0;34m(\u001b[0m\u001b[0mreq\u001b[0m\u001b[0;34m.\u001b[0m\u001b[0mfull_url\u001b[0m\u001b[0;34m,\u001b[0m \u001b[0mcode\u001b[0m\u001b[0;34m,\u001b[0m \u001b[0mmsg\u001b[0m\u001b[0;34m,\u001b[0m \u001b[0mhdrs\u001b[0m\u001b[0;34m,\u001b[0m \u001b[0mfp\u001b[0m\u001b[0;34m)\u001b[0m\u001b[0;34m\u001b[0m\u001b[0m\n\u001b[0m\u001b[1;32m    590\u001b[0m \u001b[0;34m\u001b[0m\u001b[0m\n\u001b[1;32m    591\u001b[0m \u001b[0;32mclass\u001b[0m \u001b[0mHTTPRedirectHandler\u001b[0m\u001b[0;34m(\u001b[0m\u001b[0mBaseHandler\u001b[0m\u001b[0;34m)\u001b[0m\u001b[0;34m:\u001b[0m\u001b[0;34m\u001b[0m\u001b[0m\n",
      "\u001b[0;31mHTTPError\u001b[0m: HTTP Error 404: Not Found"
     ]
    }
   ],
   "source": [
    "for item in tmp:\n",
    "    request = urllibR.urlopen(item)\n",
    "    soup = BeautifulSoup(request.read())\n",
    "    for tag in soup.findAll('a', href = True):\n",
    "        tag2 = urllibR.urljoin(url, tag['href'])\n",
    "        print(os.path.splitext(os.path.basename(tag['href'])) )\n",
    "\n",
    "        if os.path.splitext(os.path.basename(tag2))[1] == \".html\":\n",
    "    #         print()\n",
    "    #         name = os.path.basename(tag2) \n",
    "    #         download(tag2, name)\n",
    "            tmp.append(tag2)"
   ]
  },
  {
   "cell_type": "markdown",
   "metadata": {},
   "source": []
  },
  {
   "cell_type": "code",
   "execution_count": 121,
   "metadata": {},
   "outputs": [
    {
     "data": {
      "text/plain": [
       "b''"
      ]
     },
     "execution_count": 121,
     "metadata": {},
     "output_type": "execute_result"
    }
   ],
   "source": [
    "request.read()"
   ]
  },
  {
   "cell_type": "code",
   "execution_count": 46,
   "metadata": {},
   "outputs": [],
   "source": [
    "for tag in soup.findAll('a', href = True):\n",
    "    tag2 = urllibR.urljoin(url, tag['href'])\n",
    "#     print(os.path.splitext(os.path.basename(tag['href'])) )\n",
    "    \n",
    "    if os.path.splitext(os.path.basename(tag2))[1] == \".pdf\" or os.path.splitext(os.path.basename(tag2))[1] == \".html\":\n",
    "#         print()\n",
    "        name = os.path.basename(tag2) \n",
    "        download(tag2, name)"
   ]
  },
  {
   "cell_type": "code",
   "execution_count": 33,
   "metadata": {},
   "outputs": [],
   "source": [
    "if os.path.splitext(os.path.basename(tag2))[1] is '.pdf':\n",
    "    print(\"T\")"
   ]
  },
  {
   "cell_type": "code",
   "execution_count": 97,
   "metadata": {},
   "outputs": [
    {
     "data": {
      "text/plain": [
       "'.tex'"
      ]
     },
     "execution_count": 97,
     "metadata": {},
     "output_type": "execute_result"
    }
   ],
   "source": [
    "os.path.splitext(os.path.basename(tag2))[1]"
   ]
  },
  {
   "cell_type": "code",
   "execution_count": 35,
   "metadata": {},
   "outputs": [
    {
     "name": "stdout",
     "output_type": "stream",
     "text": [
      "T\n"
     ]
    }
   ],
   "source": [
    "if 'a' + 'b' is 'ab':\n",
    "    print(\"T\")"
   ]
  },
  {
   "cell_type": "code",
   "execution_count": 100,
   "metadata": {
    "collapsed": true
   },
   "outputs": [
    {
     "data": {
      "text/plain": [
       "[<a href=\"./FallStat502_2013/hist.rainier\"> hist.rainier:</a>,\n",
       " <a href=\"./FallStat502_2013/plot.fun\"> plot.fun:</a>,\n",
       " <a href=\"./FallStat502_2013/typeIerror.rateRand\"> typeIerror.rateRand:</a>,\n",
       " <a href=\"./FallStat502_2013/flux.plots\"> flux.plots:</a>,\n",
       " <a href=\"./FallStat502_2013/deviation.boxplot.eb\"> deviation.boxplot.eb:</a>,\n",
       " <a href=\"./FallStat502_2013/deviation.boxplot.wb\"> deviation.boxplot.wb:</a>,\n",
       " <a href=\"./FallStat502_2013/Ftest.rand\"> Ftest.rand:</a>,\n",
       " <a href=\"./FallStat502_2013/sample.sizeANOVA\"> sample.sizeANOVA:</a>,\n",
       " <a href=\"./FallStat502_2013/Fmin.test\"> Fmin.test:</a>,\n",
       " <a href=\"./FallStat502_2013/kruskal.wallis.pvalue\"> kruskal.wallis.pvalue:</a>,\n",
       " <a href=\"./FallStat502_2013/SetZeroToSumZero\"> SetZeroToSumZero:</a>,\n",
       " <a href=\"./FallStat502_2013/interaction.pattern\"> interaction.pattern:</a>,\n",
       " <a href=\"./FallStat502_2013/factorial.test\"> factorial.test:</a>]"
      ]
     },
     "execution_count": 100,
     "metadata": {},
     "output_type": "execute_result"
    }
   ],
   "source": [
    "soup.findAll('a', href = True)"
   ]
  },
  {
   "cell_type": "code",
   "execution_count": 98,
   "metadata": {},
   "outputs": [
    {
     "data": {
      "text/plain": [
       "'http://www.stat.washington.edu/fritz/WinterStat302_2015/HW9.tex'"
      ]
     },
     "execution_count": 98,
     "metadata": {},
     "output_type": "execute_result"
    }
   ],
   "source": [
    "urllibR.urljoin(url, tag['href'])"
   ]
  },
  {
   "cell_type": "code",
   "execution_count": 41,
   "metadata": {
    "collapsed": true
   },
   "outputs": [
    {
     "name": "stdout",
     "output_type": "stream",
     "text": [
      "('?C=N;O=D', '')\n",
      "('?C=M;O=A', '')\n",
      "('?C=S;O=A', '')\n",
      "('?C=D;O=A', '')\n",
      "('', '')\n",
      "('Class15Code', '.R')\n",
      "('Code_tc4', '.py')\n",
      "('DataSet', '.csv')\n",
      "('Debate1', '.html')\n",
      "('Examp_tc11', '.R')\n",
      "('FlakeMatrix', '.RData')\n",
      "('HW1', '.pdf')\n",
      "('HW1', '.tex')\n",
      "('HW1_key', '.html')\n",
      "('HW1_key', '.py')\n",
      "('HW2', '.pdf')\n",
      "('HW2', '.tex')\n",
      "('HW2_key', '.html')\n",
      "('HW3', '.pdf')\n",
      "('HW3', '.tex')\n",
      "('HW3_key', '.html')\n",
      "('HW4', '.pdf')\n",
      "('HW4', '.tex')\n",
      "('HW5', '.pdf')\n",
      "('HW5', '.tex')\n",
      "('LASSO', '.RData')\n",
      "('examp_c9', '.R')\n",
      "('examp_tc3', '.py')\n",
      "('flake', '.mallet')\n",
      "('mach', '.tar')\n",
      "('nyt_ac', '.json')\n",
      "('probit', '.R')\n",
      "('tc1', '.pdf')\n",
      "('tc1', '.tex')\n",
      "('tc2', '.pdf')\n",
      "('tc2', '.tex')\n",
      "('tc3', '.pdf')\n",
      "('tc3', '.tex')\n",
      "('tc4', '.pdf')\n",
      "('tc4', '.tex')\n",
      "('tc5', '.pdf')\n",
      "('tc5', '.tex')\n",
      "('tc6', '.pdf')\n",
      "('tc6', '.tex')\n",
      "('tc7', '.pdf')\n",
      "('tc7', '.tex')\n",
      "('tc8', '.pdf')\n",
      "('tc8', '.tex')\n",
      "('tc9', '.pdf')\n",
      "('tc9', '.tex')\n",
      "('tc10', '.pdf')\n",
      "('tc10', '.tex')\n",
      "('tc11', '.pdf')\n",
      "('tc11', '.tex')\n",
      "('tc12', '.pdf')\n",
      "('tc12', '.tex')\n",
      "('tc14', '.pdf')\n",
      "('tc14', '.tex')\n",
      "('tc15', '.pdf')\n",
      "('tc15', '.tex')\n",
      "('tc16', '.pdf')\n",
      "('tc16', '.tex')\n",
      "('tc17', '.pdf')\n",
      "('tc17', '.tex')\n",
      "('tc18', '.pdf')\n",
      "('tc18', '.tex')\n",
      "('tc19', '.pdf')\n",
      "('tc19', '.tex')\n",
      "('textsyll', '.pdf')\n"
     ]
    }
   ],
   "source": [
    "for tag in soup.findAll('a', href = True):\n",
    "    tag['href'] = urllibR.urljoin(url, tag['href'])\n",
    "    print(os.path.splitext(os.path.basename(tag['href'])) )\n",
    "\n",
    "#     name = os.path.basename(tag['href'])\n",
    "#     download(tag['href'], name)"
   ]
  },
  {
   "cell_type": "code",
   "execution_count": 50,
   "metadata": {},
   "outputs": [
    {
     "data": {
      "text/plain": [
       "'lecture24.pdf'"
      ]
     },
     "execution_count": 50,
     "metadata": {},
     "output_type": "execute_result"
    }
   ],
   "source": [
    "os.path.basename(tag['href'])"
   ]
  },
  {
   "cell_type": "code",
   "execution_count": 41,
   "metadata": {},
   "outputs": [
    {
     "name": "stderr",
     "output_type": "stream",
     "text": [
      "/Users/tomoyasasaki/anaconda/lib/python3.5/site-packages/urllib3/connectionpool.py:821: InsecureRequestWarning: Unverified HTTPS request is being made. Adding certificate verification is strongly advised. See: https://urllib3.readthedocs.org/en/latest/security.html\n",
      "  InsecureRequestWarning)\n"
     ]
    },
    {
     "data": {
      "text/plain": [
       "<urllib3.response.HTTPResponse at 0x105fb1b00>"
      ]
     },
     "execution_count": 41,
     "metadata": {},
     "output_type": "execute_result"
    }
   ],
   "source": [
    "http.request('GET', tag['href'])"
   ]
  },
  {
   "cell_type": "code",
   "execution_count": 30,
   "metadata": {},
   "outputs": [],
   "source": [
    "first_name = \"Alice\""
   ]
  },
  {
   "cell_type": "code",
   "execution_count": 32,
   "metadata": {},
   "outputs": [
    {
     "ename": "TypeError",
     "evalue": "'str' object does not support item assignment",
     "output_type": "error",
     "traceback": [
      "\u001b[0;31m---------------------------------------------------------------------------\u001b[0m",
      "\u001b[0;31mTypeError\u001b[0m                                 Traceback (most recent call last)",
      "\u001b[0;32m<ipython-input-32-178c021c3e2f>\u001b[0m in \u001b[0;36m<module>\u001b[0;34m()\u001b[0m\n\u001b[0;32m----> 1\u001b[0;31m \u001b[0mfirst_name\u001b[0m\u001b[0;34m[\u001b[0m\u001b[0;36m0\u001b[0m\u001b[0;34m]\u001b[0m \u001b[0;34m=\u001b[0m \u001b[0;34m\"A\"\u001b[0m\u001b[0;34m\u001b[0m\u001b[0m\n\u001b[0m",
      "\u001b[0;31mTypeError\u001b[0m: 'str' object does not support item assignment"
     ]
    }
   ],
   "source": [
    "first_name[0] = \"A\""
   ]
  },
  {
   "cell_type": "code",
   "execution_count": 26,
   "metadata": {
    "collapsed": true
   },
   "outputs": [],
   "source": [
    "x = 2"
   ]
  },
  {
   "cell_type": "code",
   "execution_count": 27,
   "metadata": {},
   "outputs": [],
   "source": [
    "if x == (1 or 2):\n",
    "    print(\"T\")"
   ]
  },
  {
   "cell_type": "code",
   "execution_count": null,
   "metadata": {
    "collapsed": true
   },
   "outputs": [],
   "source": []
  }
 ],
 "metadata": {
  "kernelspec": {
   "display_name": "Python 3",
   "language": "python",
   "name": "python3"
  },
  "language_info": {
   "codemirror_mode": {
    "name": "ipython",
    "version": 3
   },
   "file_extension": ".py",
   "mimetype": "text/x-python",
   "name": "python",
   "nbconvert_exporter": "python",
   "pygments_lexer": "ipython3",
   "version": "3.6.4"
  }
 },
 "nbformat": 4,
 "nbformat_minor": 1
}
