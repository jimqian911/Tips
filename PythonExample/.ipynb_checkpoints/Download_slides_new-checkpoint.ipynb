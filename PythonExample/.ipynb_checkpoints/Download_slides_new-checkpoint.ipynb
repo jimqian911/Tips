{
 "cells": [
  {
   "cell_type": "markdown",
   "metadata": {},
   "source": [
    "# Reference\n",
    "* [here](https://null-byte.wonderhowto.com/how-to/download-all-pdfs-webpage-with-python-script-0163031/)\n",
    "* [here](https://stackoverflow.com/questions/7243750/download-file-from-web-in-python-3)"
   ]
  },
  {
   "cell_type": "code",
   "execution_count": 1,
   "metadata": {},
   "outputs": [],
   "source": [
    "import urllib.parse as urllib\n",
    "import urllib3\n",
    "import os\n",
    "import sys\n",
    "from bs4 import BeautifulSoup\n",
    "import urllib.request as urllibR\n",
    "from requests import get\n",
    "from time import sleep, time\n",
    "import re\n",
    "from random import randint"
   ]
  },
  {
   "cell_type": "markdown",
   "metadata": {},
   "source": [
    "# function to download (bypass using firefox)"
   ]
  },
  {
   "cell_type": "code",
   "execution_count": 2,
   "metadata": {},
   "outputs": [],
   "source": [
    "# 1\n",
    "def obtain_bs4soup(url, bypass):\n",
    "    try:\n",
    "        os.mkdir(download_path)\n",
    "    except:\n",
    "        pass\n",
    "    \n",
    "    headers = {\n",
    "        \"User-Agent\": \"Mozilla/5.0 (X11; Ubuntu; Linux x86_64; rv:47.0) Gecko/20100101 Firefox/47.0\",\n",
    "    }\n",
    "    \n",
    "    ## Choose whether to bypass through firefox\n",
    "    if bypass == True:\n",
    "        request0 = urllibR.Request(url=url, headers=headers)\n",
    "        request = urllibR.urlopen(request0)\n",
    "    else:\n",
    "        request = urllibR.urlopen(url)\n",
    "        \n",
    "    soup = BeautifulSoup(request.read(), \"lxml\")\n",
    "    \n",
    "    return soup"
   ]
  },
  {
   "cell_type": "code",
   "execution_count": 3,
   "metadata": {},
   "outputs": [],
   "source": [
    "# 2\n",
    "def download(url, file_name):\n",
    "    # open in binary mode\n",
    "    with open(file_name, \"wb\") as file:\n",
    "        try:\n",
    "            # get request\n",
    "            response = get(url)\n",
    "            # write to file\n",
    "            file.write(response.content)\n",
    "        except:\n",
    "            print(\"fail\", file_name)\n",
    "#         print(\"wrote\", file_name)"
   ]
  },
  {
   "cell_type": "code",
   "execution_count": 78,
   "metadata": {},
   "outputs": [],
   "source": [
    "# 3\n",
    "# url = \"https://web.stanford.edu/~jurafsky/slp3/\"\n",
    "# url = \"https://projects.iq.harvard.edu/prefresher/math\""
   ]
  },
  {
   "cell_type": "code",
   "execution_count": 73,
   "metadata": {},
   "outputs": [],
   "source": [
    "# 4\n",
    "download_path = \"/Users/tomoyasasaki/Documents/Materials/Lecture/Info_Watanabe\""
   ]
  },
  {
   "cell_type": "code",
   "execution_count": 74,
   "metadata": {},
   "outputs": [],
   "source": [
    "# 5\n",
    "if not os.path.exists(download_path):\n",
    "    os.makedirs(download_path)"
   ]
  },
  {
   "cell_type": "code",
   "execution_count": 75,
   "metadata": {},
   "outputs": [],
   "source": [
    "# 6\n",
    "soup = obtain_bs4soup(url, bypass = False)"
   ]
  },
  {
   "cell_type": "code",
   "execution_count": 77,
   "metadata": {},
   "outputs": [
    {
     "name": "stdout",
     "output_type": "stream",
     "text": [
      "http://watanabe-www.math.dis.titech.ac.jp/users/swatanab/AI.pdf\n",
      "AI.pdf\n",
      "http://watanabe-www.math.dis.titech.ac.jp/users/swatanab/joho01.pdf\n",
      "joho01.pdf\n",
      "http://watanabe-www.math.dis.titech.ac.jp/users/swatanab/jh1501.m\n",
      "jh1501.m\n",
      "http://watanabe-www.math.dis.titech.ac.jp/users/swatanab/jh1501_g1.m\n",
      "jh1501_g1.m\n",
      "http://watanabe-www.math.dis.titech.ac.jp/users/swatanab/jh1501_g2.m\n",
      "jh1501_g2.m\n",
      "http://watanabe-www.math.dis.titech.ac.jp/users/swatanab/jh1501_read.m\n",
      "jh1501_read.m\n",
      "http://watanabe-www.math.dis.titech.ac.jp/users/swatanab/jh1501_train.txt\n",
      "jh1501_train.txt\n",
      "http://watanabe-www.math.dis.titech.ac.jp/users/swatanab/jh1501_test.txt\n",
      "jh1501_test.txt\n",
      "http://watanabe-www.math.dis.titech.ac.jp/users/swatanab/joho02.pdf\n",
      "joho02.pdf\n",
      "http://watanabe-www.math.dis.titech.ac.jp/users/swatanab/jh1502.m\n",
      "jh1502.m\n",
      "http://watanabe-www.math.dis.titech.ac.jp/users/swatanab/joho03.pdf\n",
      "joho03.pdf\n",
      "http://watanabe-www.math.dis.titech.ac.jp/users/swatanab/jh1503.m\n",
      "jh1503.m\n",
      "http://watanabe-www.math.dis.titech.ac.jp/users/swatanab/joho04.pdf\n",
      "joho04.pdf\n",
      "http://watanabe-www.math.dis.titech.ac.jp/users/swatanab/jh1504.m\n",
      "jh1504.m\n",
      "http://watanabe-www.math.dis.titech.ac.jp/users/swatanab/joho05.pdf\n",
      "joho05.pdf\n",
      "http://watanabe-www.math.dis.titech.ac.jp/users/swatanab/jh1505.m\n",
      "jh1505.m\n",
      "http://watanabe-www.math.dis.titech.ac.jp/users/swatanab/jh1505_train.txt\n",
      "jh1505_train.txt\n",
      "http://watanabe-www.math.dis.titech.ac.jp/users/swatanab/jh1505_test.txt\n",
      "jh1505_test.txt\n",
      "http://watanabe-www.math.dis.titech.ac.jp/users/swatanab/joho06.pdf\n",
      "joho06.pdf\n",
      "http://watanabe-www.math.dis.titech.ac.jp/users/swatanab/jh1506.m\n",
      "jh1506.m\n",
      "http://watanabe-www.math.dis.titech.ac.jp/users/swatanab/joho07.pdf\n",
      "joho07.pdf\n",
      "http://watanabe-www.math.dis.titech.ac.jp/users/swatanab/jh1507.m\n",
      "jh1507.m\n",
      "http://watanabe-www.math.dis.titech.ac.jp/users/swatanab/joho08.pdf\n",
      "joho08.pdf\n",
      "http://watanabe-www.math.dis.titech.ac.jp/users/swatanab/jh1508.m\n",
      "jh1508.m\n",
      "http://watanabe-www.math.dis.titech.ac.jp/users/swatanab/joho09.pdf\n",
      "joho09.pdf\n",
      "http://watanabe-www.math.dis.titech.ac.jp/users/swatanab/jh1509.m\n",
      "jh1509.m\n",
      "http://watanabe-www.math.dis.titech.ac.jp/users/swatanab/joho10.pdf\n",
      "joho10.pdf\n",
      "http://watanabe-www.math.dis.titech.ac.jp/users/swatanab/jh1510.m\n",
      "jh1510.m\n",
      "http://watanabe-www.math.dis.titech.ac.jp/users/swatanab/jh1510_2.m\n",
      "jh1510_2.m\n",
      "http://watanabe-www.math.dis.titech.ac.jp/users/swatanab/jh1510_2dat2.pdf\n",
      "jh1510_2dat2.pdf\n",
      "http://watanabe-www.math.dis.titech.ac.jp/users/swatanab/joho11.pdf\n",
      "joho11.pdf\n",
      "http://watanabe-www.math.dis.titech.ac.jp/users/swatanab/jh1511_1.m\n",
      "jh1511_1.m\n",
      "http://watanabe-www.math.dis.titech.ac.jp/users/swatanab/jh1511_2.m\n",
      "jh1511_2.m\n",
      "http://watanabe-www.math.dis.titech.ac.jp/users/swatanab/joho12.pdf\n",
      "joho12.pdf\n",
      "http://watanabe-www.math.dis.titech.ac.jp/users/swatanab/jh1512.m\n",
      "jh1512.m\n",
      "http://watanabe-www.math.dis.titech.ac.jp/users/swatanab/char_learn03.txt\n",
      "char_learn03.txt\n",
      "http://watanabe-www.math.dis.titech.ac.jp/users/swatanab/joho13.pdf\n",
      "joho13.pdf\n",
      "http://watanabe-www.math.dis.titech.ac.jp/users/swatanab/jh1513_1.m\n",
      "jh1513_1.m\n",
      "http://watanabe-www.math.dis.titech.ac.jp/users/swatanab/jh1513_2.m\n",
      "jh1513_2.m\n",
      "http://watanabe-www.math.dis.titech.ac.jp/users/swatanab/jh1513_3.m\n",
      "jh1513_3.m\n",
      "http://watanabe-www.math.dis.titech.ac.jp/users/swatanab/deep_see.m\n",
      "deep_see.m\n",
      "http://watanabe-www.math.dis.titech.ac.jp/users/swatanab/char_train.txt\n",
      "char_train.txt\n",
      "http://watanabe-www.math.dis.titech.ac.jp/users/swatanab/char_test.txt\n",
      "char_test.txt\n",
      "http://watanabe-www.math.dis.titech.ac.jp/users/swatanab/joho14.pdf\n",
      "joho14.pdf\n",
      "http://watanabe-www.math.dis.titech.ac.jp/users/swatanab/backprop.pdf\n",
      "backprop.pdf\n",
      "http://watanabe-www.math.dis.titech.ac.jp/users/swatanab/jh1514.m\n",
      "jh1514.m\n",
      "http://watanabe-www.math.dis.titech.ac.jp/users/swatanab/hakusai.txt\n",
      "hakusai.txt\n",
      "http://watanabe-www.math.dis.titech.ac.jp/users/swatanab/joho15.pdf\n",
      "joho15.pdf\n",
      "http://watanabe-www.math.dis.titech.ac.jp/users/swatanab/jh1515.m\n",
      "jh1515.m\n",
      "http://watanabe-www.math.dis.titech.ac.jp/users/swatanab/hakusai_negi.txt\n",
      "hakusai_negi.txt\n",
      "http://watanabe-www.math.dis.titech.ac.jp/users/swatanab/joho16.pdf\n",
      "joho16.pdf\n",
      "http://watanabe-www.math.dis.titech.ac.jp/users/swatanab/jh1516.m\n",
      "jh1516.m\n"
     ]
    }
   ],
   "source": [
    "os.chdir(download_path)\n",
    "for tag in soup.findAll('a', href = True):\n",
    "    tag2 = urllibR.urljoin(url, tag['href'])\n",
    "#     print(os.path.splitext(os.path.basename(tag['href'])) )\n",
    "#     print(tag2)\n",
    "    if os.path.splitext(os.path.basename(tag2))[1] == \".pdf\" or os.path.splitext(os.path.basename(tag2))[1] == \".m\" \\\n",
    "    or os.path.splitext(os.path.basename(tag2))[1] == \".txt\":\n",
    "        print(tag2)\n",
    "#         name = os.path.basename(tag2)[:-2]\n",
    "        name = os.path.basename(tag2)\n",
    "        download(tag2, name)\n",
    "        print(name)\n",
    "#         if name == \"sig_phrases_det.pdf\":\n",
    "#             pass\n",
    "#         else:\n",
    "#         download(tag2, re.sub(r\"\\?.+\" ,\"\",os.path.basename(tag2) ))\n",
    "#         download(url + name, name)\n",
    "        sleep(1)\n",
    "#         tmp.append(tag2)\n",
    "\n",
    "# end = time()\n",
    "# elapse = end - time"
   ]
  },
  {
   "cell_type": "code",
   "execution_count": null,
   "metadata": {},
   "outputs": [],
   "source": []
  }
 ],
 "metadata": {
  "kernelspec": {
   "display_name": "Python 3",
   "language": "python",
   "name": "python3"
  },
  "language_info": {
   "codemirror_mode": {
    "name": "ipython",
    "version": 3
   },
   "file_extension": ".py",
   "mimetype": "text/x-python",
   "name": "python",
   "nbconvert_exporter": "python",
   "pygments_lexer": "ipython3",
   "version": "3.6.4"
  }
 },
 "nbformat": 4,
 "nbformat_minor": 2
}
