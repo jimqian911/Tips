{
 "cells": [
  {
   "cell_type": "code",
   "execution_count": 1,
   "metadata": {
    "collapsed": false
   },
   "outputs": [
    {
     "name": "stderr",
     "output_type": "stream",
     "text": [
      "/Users/tomoyasasaki/.local/lib/python3.5/site-packages/IPython/html.py:14: ShimWarning: The `IPython.html` package has been deprecated. You should import from `notebook` instead. `IPython.html.widgets` has moved to `ipywidgets`.\n",
      "  \"`IPython.html.widgets` has moved to `ipywidgets`.\", ShimWarning)\n"
     ]
    }
   ],
   "source": [
    "import math\n",
    "import random\n",
    "import numpy as np\n",
    "import seaborn as sns\n",
    "import matplotlib.pyplot as plt\n",
    "import matplotlib.pyplot as pylab"
   ]
  },
  {
   "cell_type": "code",
   "execution_count": 2,
   "metadata": {
    "collapsed": true
   },
   "outputs": [],
   "source": [
    "%matplotlib inline"
   ]
  },
  {
   "cell_type": "code",
   "execution_count": 3,
   "metadata": {
    "collapsed": true
   },
   "outputs": [],
   "source": [
    "def sigmoid(x):\n",
    "    return 1 / ( 1 + np.exp(-x))\n",
    "\n",
    "K = 3 # number of coefficients, including the constant"
   ]
  },
  {
   "cell_type": "code",
   "execution_count": 4,
   "metadata": {
    "collapsed": false
   },
   "outputs": [
    {
     "name": "stdout",
     "output_type": "stream",
     "text": [
      "(2000, 3)\n"
     ]
    }
   ],
   "source": [
    "X = np.array(([ [1,  float(np.random.normal(0,1)),float(np.random.normal(0,0.5))] for i in range(2000)  ]))\n",
    "print(X.shape)"
   ]
  },
  {
   "cell_type": "code",
   "execution_count": 5,
   "metadata": {
    "collapsed": false
   },
   "outputs": [
    {
     "name": "stdout",
     "output_type": "stream",
     "text": [
      "(3,)\n",
      "[ 0.5  1.5  2.5]\n"
     ]
    }
   ],
   "source": [
    "beta = np.array([0.5, 1.5, 2.5])\n",
    "print(beta.shape)\n",
    "print(beta)"
   ]
  },
  {
   "cell_type": "code",
   "execution_count": 6,
   "metadata": {
    "collapsed": false
   },
   "outputs": [
    {
     "name": "stdout",
     "output_type": "stream",
     "text": [
      "(2000,)\n",
      "[ 0.80236531  0.18963134  0.91646555  0.91293516  0.13041347  0.0312284\n",
      "  0.60271109  0.12486234  0.86812753  0.86862158  0.4500867   0.78219894\n",
      "  0.99310601  0.17029035  0.15175688]\n"
     ]
    }
   ],
   "source": [
    "Xbeta = np.dot(X, beta) # + np.random.logistic(scale=0.15, size=X.shape[0]) # do not forget to add an error term\n",
    "pi = sigmoid(Xbeta)\n",
    "print(pi.shape)\n",
    "print(pi[:15])"
   ]
  },
  {
   "cell_type": "code",
   "execution_count": 7,
   "metadata": {
    "collapsed": false
   },
   "outputs": [
    {
     "name": "stdout",
     "output_type": "stream",
     "text": [
      "(2000,)\n",
      "[1 0 1 1 0]\n"
     ]
    }
   ],
   "source": [
    "Y = np.array([np.random.binomial(1, p=prob) for prob in pi])\n",
    "print(Y.shape)\n",
    "print(Y[:5])"
   ]
  },
  {
   "cell_type": "markdown",
   "metadata": {},
   "source": [
    "# Unbounded Slice Sampling"
   ]
  },
  {
   "cell_type": "markdown",
   "metadata": {},
   "source": [
    "変換:\n",
    "    $$\n",
    "    p = \\frac{1}{1 + \\exp(-Ax)}, \\quad 0 < p < 1 \\\\\n",
    "    $$\n",
    "\n",
    "戻す:\n",
    "   $$\n",
    "    x = -\\frac{1}{A} \\log \\left(\\frac{1}{p} - 1\\right),　\\quad -\\infty < x < \\infty\\\\\n",
    "    $$\n",
    "   \n",
    "ヤコビアン:<br>\n",
    "    $dx/dp$より、\n",
    "    $$\n",
    "    dx = \\frac{1}{A} \\frac{1}{p(1-p)}dp\\\\\n",
    "    $$\n",
    "\n",
    "Likelihood:\n",
    "    $$\n",
    "    \\mathcal{L} = \\prod_i p_i^{y_i} (1-p_i)^{1-y_i} \n",
    "    $$    \n",
    "    or \n",
    "    $$\n",
    "    \\mathcal{L} = \\prod_i \\left( \\frac{1}{1 + \\exp(- \\beta X_i)} \\right)^{y_i} %\n",
    "    \\left( \\frac{\\exp(- \\beta X_i)}{1 + \\exp(- \\beta X_i)}\\right)^{1 - y_i}  \n",
    "    $$\n",
    "    where\n",
    "    $$\n",
    "    p = \\frac{1}{1 + \\exp(- \\beta X_i)} \\\\\n",
    "    $$\n",
    " \n",
    " Loglikelihood:\n",
    "     $$\n",
    "     \\log\\mathcal{L}= \\sum_i \\left\\{ y_i \\log \\left( \\frac{1}{1 + \\exp(- \\beta X_i)} \\right)  % \n",
    "     + (1 - y_i) \\log \\left( \\frac{\\exp(- \\beta X_i)}{1 + \\exp(- \\beta X_i)} \\right) \\right\\}\\\\\n",
    "     $$\n",
    "     \n",
    "Prior:\n",
    "    $$\n",
    "    \\beta_j \\sim \\mathcal{N} (\\mu_j, \\sigma_j^2)\\\\\n",
    "    $$\n",
    "\n",
    "Posterior:\n",
    "    $$\n",
    "    \\mathcal{P} = \\prod_i \\left( \\frac{1}{1 + \\exp(- \\beta X_i)} \\right)^{y_i} %\n",
    "    \\left( \\frac{\\exp(- \\beta X_i)}{1 + \\exp(- \\beta X_i)}\\right)^{1 - y_i}  %\n",
    "    \\prod_j \\frac{1}{\\sqrt{2 \\pi \\sigma_j^2}} \\exp  \\left\\{ - \\frac{(\\beta_j - \\mu_j)^2}{2 \\sigma_j^2} \\right\\} \\\\\n",
    "    $$\n",
    " \n",
    " Log-posterior\n",
    "    $$\n",
    "     \\log\\mathcal{P}= \\sum_i \\left\\{ y_i \\log \\left( \\frac{1}{1 + \\exp(- \\beta X_i)} \\right)  % \n",
    "     + (1 - y_i) \\log \\left( \\frac{\\exp(- \\beta X_i)}{1 + \\exp(- \\beta X_i)} \\right) \\right\\} %\n",
    "     + \\sum_j \\left[ \\log \\left( \\frac{1}{\\sqrt{2 \\pi \\sigma_j^2}} \\right) + \\left\\{ - \\frac{(\\beta_j - \\mu_j)^2}{2 \\sigma_j^2} \\right\\} \\right] \\\\\n",
    "     \\propto \\sum_i \\left\\{ y_i \\log \\left( \\frac{1}{1 + \\exp(- \\beta X_i)} \\right)  % \n",
    "     + (1 - y_i) \\log \\left( \\frac{\\exp(- \\beta X_i)}{1 + \\exp(- \\beta X_i)} \\right) \\right\\} %\n",
    "      - \\sum_j \\left\\{　\\frac{(\\beta_j - \\mu_j)^2}{\\sigma_j^2}　\\right\\}\n",
    "    $$"
   ]
  },
  {
   "cell_type": "markdown",
   "metadata": {},
   "source": [
    "## Reference\n",
    "1. [here][1]\n",
    "2. [here][2]\n",
    "\n",
    "[1]:https://stats.stackexchange.com/questions/163034/bayesian-logit-model-intuitive-explanation\n",
    "[2]:http://www.medicine.mcgill.ca/epidemiology/joseph/courses/EPIB-621/bayeslogit.pdf"
   ]
  },
  {
   "cell_type": "code",
   "execution_count": 34,
   "metadata": {
    "collapsed": false
   },
   "outputs": [
    {
     "data": {
      "text/plain": [
       "64"
      ]
     },
     "execution_count": 34,
     "metadata": {},
     "output_type": "execute_result"
    }
   ],
   "source": [
    "np.power(4,3)"
   ]
  },
  {
   "cell_type": "code",
   "execution_count": 41,
   "metadata": {
    "collapsed": false
   },
   "outputs": [],
   "source": [
    "def logsigmoid(x):\n",
    "    return - np.log(1 + np.exp(-x))\n",
    "\n",
    "# def loglikelihood(beta, X):\n",
    "#     N = X.shape[0]\n",
    "#     lik =  (logsigmoid(np.dot(X, beta)) * Y).sum() + (logsigmoid(-np.dot(X, beta)) * (1 - Y)).sum()  + \\\n",
    "#                 ( -0.5 * np.log(2 * np.pi) - 0.5 * np.log(100) - (0.5/100) * np.power(beta, 2)).sum() # prior N(0,10)\n",
    "    \n",
    "#     return lik\n",
    "\n",
    "def loglikelihood(beta, X):\n",
    "    N = X.shape[0]\n",
    "    lik =  (logsigmoid(np.dot(X, beta)) * Y).sum() + (logsigmoid(-np.dot(X, beta)) * (1 - Y)).sum()   \\\n",
    "                - ( np.power(beta, 2)) .sum() # prior N(0,10)\n",
    "    return lik\n",
    "\n",
    "def expand(p, A=1):\n",
    "    # p --> x\n",
    "    return -(1/A)  * np.log((1/p) - 1)\n",
    "    \n",
    "def shrink(x, A=1):\n",
    "    # x --> p\n",
    "    return 1 / (1 + np.exp(-A * x) )"
   ]
  },
  {
   "cell_type": "code",
   "execution_count": 9,
   "metadata": {
    "collapsed": false
   },
   "outputs": [],
   "source": [
    "# function to narrow the range of sampling\n",
    "def narrow (old_p, new_p, start, end):\n",
    "    if old_p < new_p:\n",
    "        end = new_p\n",
    "    elif new_p < old_p:\n",
    "        start = new_p"
   ]
  },
  {
   "cell_type": "code",
   "execution_count": 10,
   "metadata": {
    "collapsed": false
   },
   "outputs": [],
   "source": [
    "num_iter = 1000\n",
    "max_narrow = 1000\n",
    "\n",
    "A = 1\n",
    "chain = np.zeros((num_iter, K))"
   ]
  },
  {
   "cell_type": "code",
   "execution_count": 42,
   "metadata": {
    "collapsed": true
   },
   "outputs": [],
   "source": [
    "num_sampling = 1500\n",
    "max_shrink_time = 1000\n",
    "A = 1 # 0.5くらいでも良いかも\n",
    "chain = np.zeros((num_sampling, K))\n",
    "\n",
    "for i in range(1, num_sampling):\n",
    "    param_proposal = chain[i-1].copy()\n",
    "    param_new = np.zeros(K)\n",
    "    \n",
    "    for k in range(K):\n",
    "        start = 0\n",
    "        end = 1\n",
    "\n",
    "        previous_p = shrink( param_proposal[k], A )\n",
    "        slice_ = loglikelihood( param_proposal, X) - np.log( A * previous_p * (1 -  previous_p) ) + np.log(np.random.uniform())\n",
    "            # f(x), -\\infity < x < \\infty を、 0<p<1の範囲に変換しているので、ヤコビアンを忘れないこと\n",
    "            # np.log( A * previous_p * (1 -  previous_p) )の箇所がそれ\n",
    "            \n",
    "        for shrink_time in range(max_shrink_time):\n",
    "            new_p = np.random.uniform(start, end)\n",
    "            param_proposal[k] = expand(new_p, A)\n",
    "            \n",
    "            newlikelihood = loglikelihood(param_proposal, X) - np.log( A * new_p * (1 -  new_p) )\n",
    "            \n",
    "            if  slice_ < newlikelihood :\n",
    "                break\n",
    "            # shrink bound (maybe)\n",
    "            elif previous_p < new_p:\n",
    "                end = new_p\n",
    "            elif new_p < previous_p:\n",
    "                start = new_p\n",
    "            else:\n",
    "                break\n",
    "                \n",
    "    chain[i, :] = param_proposal.copy()"
   ]
  },
  {
   "cell_type": "code",
   "execution_count": 43,
   "metadata": {
    "collapsed": true
   },
   "outputs": [],
   "source": [
    "show_num = 700"
   ]
  },
  {
   "cell_type": "code",
   "execution_count": 44,
   "metadata": {
    "collapsed": false
   },
   "outputs": [
    {
     "name": "stdout",
     "output_type": "stream",
     "text": [
      "0.442775832423\n"
     ]
    },
    {
     "data": {
      "image/png": "[encoded data removed]",
      "text/plain": [
       "<matplotlib.figure.Figure at 0x10aa02c50>"
      ]
     },
     "metadata": {},
     "output_type": "display_data"
    }
   ],
   "source": [
    "# 0.5\n",
    "sns.distplot(chain[show_num: , 0], hist=True, kde=False)\n",
    "# plt.plot([10, 10], [0, 1400], linewidth=2, color='red')\n",
    "print(np.median(chain[show_num: , 0]))"
   ]
  },
  {
   "cell_type": "code",
   "execution_count": 45,
   "metadata": {
    "collapsed": false
   },
   "outputs": [
    {
     "name": "stdout",
     "output_type": "stream",
     "text": [
      "1.37128052791\n"
     ]
    },
    {
     "data": {
      "image/png": "[encoded data removed]",
      "text/plain": [
       "<matplotlib.figure.Figure at 0x10a6d0f28>"
      ]
     },
     "metadata": {},
     "output_type": "display_data"
    }
   ],
   "source": [
    "# 1.5\n",
    "sns.distplot(chain[show_num: , 1], hist=True, kde=False)\n",
    "#plt.plot([10, 10], [0, 1400], linewidth=2, color='red')\n",
    "print(np.median(chain[show_num: , 1]))"
   ]
  },
  {
   "cell_type": "code",
   "execution_count": 46,
   "metadata": {
    "collapsed": false
   },
   "outputs": [
    {
     "name": "stdout",
     "output_type": "stream",
     "text": [
      "2.42246474808\n"
     ]
    },
    {
     "data": {
      "image/png": "[encoded data removed]",
      "text/plain": [
       "<matplotlib.figure.Figure at 0x10a8e4da0>"
      ]
     },
     "metadata": {},
     "output_type": "display_data"
    }
   ],
   "source": [
    "# 2.5\n",
    "sns.distplot(chain[show_num: , 2], hist=True, kde=False)\n",
    "#plt.plot([10, 10], [0, 1400], linewidth=2, color='red')\n",
    "print(np.median(chain[show_num: , 2]))"
   ]
  },
  {
   "cell_type": "code",
   "execution_count": null,
   "metadata": {
    "collapsed": true
   },
   "outputs": [],
   "source": []
  }
 ],
 "metadata": {
  "kernelspec": {
   "display_name": "Python [conda root]",
   "language": "python",
   "name": "conda-root-py"
  },
  "language_info": {
   "codemirror_mode": {
    "name": "ipython",
    "version": 3
   },
   "file_extension": ".py",
   "mimetype": "text/x-python",
   "name": "python",
   "nbconvert_exporter": "python",
   "pygments_lexer": "ipython3",
   "version": "3.5.1"
  }
 },
 "nbformat": 4,
 "nbformat_minor": 1
}
