{
 "cells": [
  {
   "cell_type": "code",
   "execution_count": 7,
   "metadata": {
    "collapsed": true
   },
   "outputs": [],
   "source": [
    "import scipy as sp\n",
    "import scipy.stats as stats\n",
    "import scipy.special as sps\n",
    "import numpy as np\n",
    "import os"
   ]
  },
  {
   "cell_type": "code",
   "execution_count": 15,
   "metadata": {
    "collapsed": true
   },
   "outputs": [],
   "source": [
    "def gammaln(x):\n",
    "    return sps.gammaln(x)\n",
    "\n",
    "def psi(x):\n",
    "    return sps.psi(x)\n",
    "\n",
    "def log(x):\n",
    "    return np.log(x)"
   ]
  },
  {
   "cell_type": "code",
   "execution_count": 4,
   "metadata": {
    "collapsed": false
   },
   "outputs": [
    {
     "data": {
      "text/plain": [
       "1.5061176684318003"
      ]
     },
     "execution_count": 4,
     "metadata": {},
     "output_type": "execute_result"
    }
   ],
   "source": [
    "psi(5)"
   ]
  },
  {
   "cell_type": "code",
   "execution_count": 18,
   "metadata": {
    "collapsed": true
   },
   "outputs": [],
   "source": [
    "def loglik(D, a):\n",
    "    ''' Compute loglikelihood of dirichlet distribution log p (D | a)'''\n",
    "    N, K = D.shape\n",
    "    \n",
    "    logp = log(D).mean(axis = 0)\n",
    "    return N * (gammaln(a.sum()) - gammaln(a).sum() + ((a-1) * logp).sum()  )"
   ]
  },
  {
   "cell_type": "code",
   "execution_count": null,
   "metadata": {
    "collapsed": true
   },
   "outputs": [],
   "source": [
    "def _fixedpoint(D, tol=1e-7, maxiter=100):\n",
    "    '''Simple fixed point iteration method for MLE of Dirichlet distribution'''\n",
    "    N, K = D.shape\n",
    "    logp = log(D).mean(axis=0)\n",
    "    a0 = np.array([1.0]*K)\n",
    "\n",
    "    # Start updating\n",
    "#     if maxiter is None:\n",
    "#         maxiter = MAXINT\n",
    "    for i in xrange(maxiter):\n",
    "        a1 = _ipsi( psi(a0.sum() ) + logp)\n",
    "        # if norm(a1-a0) < tol:\n",
    "        if abs(loglikelihood(D, a1)-loglikelihood(D, a0)) < tol: # much faster\n",
    "            return a1\n",
    "        a0 = a1\n",
    "        \n",
    "#     raise Exception('Failed to converge after {} iterations, values are {}.'\n",
    "#                     .format(maxiter, a1))"
   ]
  },
  {
   "cell_type": "code",
   "execution_count": 22,
   "metadata": {
    "collapsed": true
   },
   "outputs": [],
   "source": [
    "def _ipsi(y, tol=1.48e-9, maxiter=10):\n",
    "    '''Inverse of psi (digamma) using Newton's method. For the purposes\n",
    "    of Dirichlet MLE, since the parameters a[i] must always\n",
    "    satisfy a > 0, we define ipsi :: R -> (0,inf).'''\n",
    "    \n",
    "    y = np.asanyarray(y, dtype='float')\n",
    "    x0 = _piecewise(y, [y >= -2.22, y < -2.22],\n",
    "            [(lambda x: exp(x) + 0.5), (lambda x: -1/(x+euler))])\n",
    "    for i in range(maxiter):\n",
    "        x1 = x0 - (psi(x0) - y)/_trigamma(x0)\n",
    "        if norm(x1 - x0) < tol:\n",
    "            return x1\n",
    "        x0 = x1"
   ]
  },
  {
   "cell_type": "code",
   "execution_count": 8,
   "metadata": {
    "collapsed": false
   },
   "outputs": [],
   "source": [
    "os.chdir(\"/Users/tomoyasasaki/Google ドライブ/TMY/ism/\")"
   ]
  },
  {
   "cell_type": "code",
   "execution_count": 10,
   "metadata": {
    "collapsed": false
   },
   "outputs": [],
   "source": [
    "data = np.loadtxt(\"test.csv\",delimiter=\",\", skiprows=1)"
   ]
  },
  {
   "cell_type": "code",
   "execution_count": 12,
   "metadata": {
    "collapsed": false
   },
   "outputs": [],
   "source": [
    "alpha = np.array([1]*10)"
   ]
  },
  {
   "cell_type": "code",
   "execution_count": 13,
   "metadata": {
    "collapsed": false
   },
   "outputs": [
    {
     "data": {
      "text/plain": [
       "array([1, 1, 1, 1, 1, 1, 1, 1, 1, 1])"
      ]
     },
     "execution_count": 13,
     "metadata": {},
     "output_type": "execute_result"
    }
   ],
   "source": [
    "alpha"
   ]
  },
  {
   "cell_type": "code",
   "execution_count": 19,
   "metadata": {
    "collapsed": false
   },
   "outputs": [
    {
     "data": {
      "text/plain": [
       "384.05482440244407"
      ]
     },
     "execution_count": 19,
     "metadata": {},
     "output_type": "execute_result"
    }
   ],
   "source": [
    "loglik(data, alpha)"
   ]
  },
  {
   "cell_type": "code",
   "execution_count": null,
   "metadata": {
    "collapsed": true
   },
   "outputs": [],
   "source": []
  }
 ],
 "metadata": {
  "kernelspec": {
   "display_name": "Python [conda env:snakes]",
   "language": "python",
   "name": "conda-env-snakes-py"
  },
  "language_info": {
   "codemirror_mode": {
    "name": "ipython",
    "version": 3
   },
   "file_extension": ".py",
   "mimetype": "text/x-python",
   "name": "python",
   "nbconvert_exporter": "python",
   "pygments_lexer": "ipython3",
   "version": "3.5.3"
  }
 },
 "nbformat": 4,
 "nbformat_minor": 1
}
